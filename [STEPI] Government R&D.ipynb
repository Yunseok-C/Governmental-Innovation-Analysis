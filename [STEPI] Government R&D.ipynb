{
 "cells": [
  {
   "cell_type": "code",
   "execution_count": 151,
   "metadata": {},
   "outputs": [],
   "source": [
    "import pandas as pd\n",
    "import numpy as np"
   ]
  },
  {
   "cell_type": "code",
   "execution_count": 293,
   "metadata": {},
   "outputs": [],
   "source": [
    "df = pd.read_csv(r'C:\\Users\\Yunseok Choi\\Google 드라이브\\기술경영대학원\\STEPI\\Government R&D\\kis-ntis.csv')\n",
    "df.fillna(0, inplace = True)\n",
    "df.drop(3999, axis = 0, inplace = True)"
   ]
  },
  {
   "cell_type": "code",
   "execution_count": 311,
   "metadata": {},
   "outputs": [
    {
     "data": {
      "text/plain": [
       "{0.0, 1.0}"
      ]
     },
     "execution_count": 311,
     "metadata": {},
     "output_type": "execute_result"
    }
   ],
   "source": [
    "set(df['ntis_past'])"
   ]
  },
  {
   "cell_type": "code",
   "execution_count": 309,
   "metadata": {},
   "outputs": [
    {
     "data": {
      "text/plain": [
       "{0.0, 1.0, 2.0, 3.0, 4.0, 5.0, 6.0, 7.0, 9.0}"
      ]
     },
     "execution_count": 309,
     "metadata": {},
     "output_type": "execute_result"
    }
   ],
   "source": [
    "set(df['ntis_present'])"
   ]
  },
  {
   "cell_type": "code",
   "execution_count": 153,
   "metadata": {},
   "outputs": [],
   "source": [
    "qlist = ['Q11_1','Q11_2','Q11_3','Q11_4','Q11_5','Q11_6']"
   ]
  },
  {
   "cell_type": "code",
   "execution_count": 306,
   "metadata": {},
   "outputs": [
    {
     "name": "stdout",
     "output_type": "stream",
     "text": [
      "{0, 1}\n",
      "{0, 1}\n",
      "{0, 1}\n",
      "{0, 1}\n",
      "{0, 1}\n",
      "{0, 1}\n"
     ]
    }
   ],
   "source": [
    "for item in qlist:\n",
    "    print(set(df[item]))"
   ]
  },
  {
   "cell_type": "markdown",
   "metadata": {},
   "source": [
    "#### 기초 통계량: 혁신 활동 변수"
   ]
  },
  {
   "cell_type": "code",
   "execution_count": 155,
   "metadata": {},
   "outputs": [
    {
     "name": "stdout",
     "output_type": "stream",
     "text": [
      "Q11_1 0.21505376344086022\n",
      "Q11_2 0.13553388347086773\n",
      "Q11_3 0.002250562640660165\n",
      "Q11_4 0.229057264316079\n",
      "Q11_5 0.010752688172043012\n",
      "Q11_6 0.044761190297574395\n"
     ]
    }
   ],
   "source": [
    "for item in qlist:\n",
    "    print(item, np.mean(df[item].values))"
   ]
  },
  {
   "cell_type": "code",
   "execution_count": 156,
   "metadata": {},
   "outputs": [
    {
     "name": "stdout",
     "output_type": "stream",
     "text": [
      "Q11_1 0.4108596381622107\n",
      "Q11_2 0.34229292996229554\n",
      "Q11_3 0.047386681762501895\n",
      "Q11_4 0.4202261700324159\n",
      "Q11_5 0.10313616179167141\n",
      "Q11_6 0.2067791724055368\n"
     ]
    }
   ],
   "source": [
    "for item in qlist:\n",
    "    print(item, np.std(df[item].values))"
   ]
  },
  {
   "cell_type": "code",
   "execution_count": 157,
   "metadata": {},
   "outputs": [
    {
     "name": "stdout",
     "output_type": "stream",
     "text": [
      "0.2663165791447862 0.44203173960407527\n"
     ]
    }
   ],
   "source": [
    "total_1 = df[(df['Q11_1'] == 1) | (df['Q11_2'] == 1) |(df['Q11_3'] == 1) | (df['Q11_4'] == 1) | (df['Q11_5'] == 1) | (df['Q11_6'] == 1)].index\n",
    "list_one=[]\n",
    "for i in range(0,3999,1):\n",
    "    if i in total_1 :s\n",
    "        list_one.append(1)\n",
    "    else:\n",
    "        list_one.append(0)\n",
    "print(np.mean(list_one), np.std(list_one))"
   ]
  },
  {
   "cell_type": "markdown",
   "metadata": {},
   "source": [
    "#### 종합 혁신 활동 비율 분석 (과거시점)"
   ]
  },
  {
   "cell_type": "code",
   "execution_count": 258,
   "metadata": {},
   "outputs": [
    {
     "name": "stdout",
     "output_type": "stream",
     "text": [
      "3776 223\n"
     ]
    }
   ],
   "source": [
    "past_non = df[df['ntis_past']== 0].shape[0]\n",
    "past_part = df[df['ntis_past']!= 0].shape[0]\n",
    "print(past_non, past_part)"
   ]
  },
  {
   "cell_type": "code",
   "execution_count": 256,
   "metadata": {},
   "outputs": [
    {
     "name": "stdout",
     "output_type": "stream",
     "text": [
      "20.5 33.7\n",
      "12.5 26.7\n",
      "0.2 0.3\n",
      "21.0 46.7\n",
      "0.7 6.0\n",
      "4.5 4.0\n"
     ]
    }
   ],
   "source": [
    "for item in qlist:\n",
    "    participate = df[(df[item]==1) & (df['ntis_past']!=0)].shape[0]\n",
    "    nonparticipate = df[(df[item]==1) & (df['ntis_past']==0)].shape[0]\n",
    "    print(round((nonparticipate/past_non)*100,1), round((participate/past_part)*100,1))"
   ]
  },
  {
   "cell_type": "code",
   "execution_count": 277,
   "metadata": {},
   "outputs": [
    {
     "name": "stdout",
     "output_type": "stream",
     "text": [
      "0.243114406779661\n",
      "0.6591928251121076\n"
     ]
    }
   ],
   "source": [
    "innodf = df[((df['Q11_1'] == 1) | (df['Q11_2'] == 1) |(df['Q11_3'] == 1) | (df['Q11_4'] == 1) | (df['Q11_5'] == 1) | (df['Q11_6'] == 1))]\n",
    "print(innodf[innodf['ntis_past'] == 0].shape[0]/past_non)\n",
    "print(innodf[innodf['ntis_past'] != 0].shape[0]/past_part)"
   ]
  },
  {
   "cell_type": "markdown",
   "metadata": {},
   "source": [
    "#### 종합 혁신 활동 비율 분석 (현재시점)"
   ]
  },
  {
   "cell_type": "code",
   "execution_count": 278,
   "metadata": {},
   "outputs": [
    {
     "name": "stdout",
     "output_type": "stream",
     "text": [
      "3699 300\n"
     ]
    }
   ],
   "source": [
    "present_non = df[df['ntis_present']<1].shape[0]\n",
    "present_part = df[df['ntis_present']!= 0].shape[0]\n",
    "print(present_non, present_part)"
   ]
  },
  {
   "cell_type": "code",
   "execution_count": 279,
   "metadata": {},
   "outputs": [
    {
     "name": "stdout",
     "output_type": "stream",
     "text": [
      "19.8 42.3\n",
      "11.8 35.7\n",
      "0.2 0.3\n",
      "19.9 60.3\n",
      "0.6 7.0\n",
      "4.4 5.3\n"
     ]
    }
   ],
   "source": [
    "for item in qlist:\n",
    "    participate = df[(df[item]==1) & (df['ntis_present'] != 0)].shape[0]\n",
    "    nonparticipate = df[(df[item]==1) & (df['ntis_present'] == 0)].shape[0]\n",
    "    print(round((nonparticipate/present_non)*100,1), round((participate/present_part)*100,1))"
   ]
  },
  {
   "cell_type": "code",
   "execution_count": 223,
   "metadata": {},
   "outputs": [
    {
     "name": "stdout",
     "output_type": "stream",
     "text": [
      "23.68\n",
      "63.0\n"
     ]
    }
   ],
   "source": [
    "innodf = df[((df['Q11_1'] == 1) | (df['Q11_2'] == 1) |(df['Q11_3'] == 1) | (df['Q11_4'] == 1) | (df['Q11_5'] == 1) | (df['Q11_6'] == 1))]\n",
    "print(round((innodf[innodf['ntis_present'] == 0].shape[0]/past_non)*100,2))\n",
    "print(round((innodf[innodf['ntis_present'] != 0].shape[0]/past_part)*100,2))"
   ]
  },
  {
   "cell_type": "markdown",
   "metadata": {},
   "source": [
    "# 외부협력"
   ]
  },
  {
   "cell_type": "code",
   "execution_count": 404,
   "metadata": {},
   "outputs": [
    {
     "name": "stderr",
     "output_type": "stream",
     "text": [
      "C:\\Users\\Yunseok Choi\\Anaconda3\\lib\\site-packages\\IPython\\core\\interactiveshell.py:3444: DtypeWarning: Columns (117,127,333) have mixed types.Specify dtype option on import or set low_memory=False.\n",
      "  exec(code_obj, self.user_global_ns, self.user_ns)\n"
     ]
    }
   ],
   "source": [
    "df = pd.read_csv(r'C:\\Users\\Yunseok Choi\\Google 드라이브\\기술경영대학원\\STEPI\\Government R&D\\kis-ntis.csv')\n",
    "df.fillna(-1, inplace = True)\n",
    "df.drop(3999, axis = 0, inplace = True)"
   ]
  },
  {
   "cell_type": "code",
   "execution_count": 405,
   "metadata": {},
   "outputs": [],
   "source": [
    "df = df[(df['Q16_1'] > -1) & (df['Q16_2'] > -1) & (df['Q16_3'] > -1)]\n",
    "df.reset_index(inplace = True)"
   ]
  },
  {
   "cell_type": "code",
   "execution_count": 412,
   "metadata": {},
   "outputs": [],
   "source": [
    "qlist = ['Q16_1','Q16_2','Q16_3']"
   ]
  },
  {
   "cell_type": "code",
   "execution_count": 413,
   "metadata": {},
   "outputs": [
    {
     "data": {
      "text/plain": [
       "{-1.0, 0.0, 1.0}"
      ]
     },
     "execution_count": 413,
     "metadata": {},
     "output_type": "execute_result"
    }
   ],
   "source": [
    "set(df['ntis_past'])"
   ]
  },
  {
   "cell_type": "code",
   "execution_count": 414,
   "metadata": {},
   "outputs": [
    {
     "data": {
      "text/plain": [
       "{-1.0, 0.0, 1.0, 2.0, 3.0, 4.0, 5.0, 6.0, 7.0}"
      ]
     },
     "execution_count": 414,
     "metadata": {},
     "output_type": "execute_result"
    }
   ],
   "source": [
    "set(df['ntis_present'])"
   ]
  },
  {
   "cell_type": "code",
   "execution_count": 415,
   "metadata": {},
   "outputs": [
    {
     "name": "stdout",
     "output_type": "stream",
     "text": [
      "{0.0, 1.0}\n",
      "{0.0, 1.0}\n",
      "{0.0, 1.0}\n"
     ]
    }
   ],
   "source": [
    "for item in qlist:\n",
    "    print(set(df[item]))"
   ]
  },
  {
   "cell_type": "markdown",
   "metadata": {},
   "source": [
    "#### 기초 통계량: 외부협력 및 혁신 협력 변수"
   ]
  },
  {
   "cell_type": "code",
   "execution_count": 416,
   "metadata": {},
   "outputs": [
    {
     "name": "stdout",
     "output_type": "stream",
     "text": [
      "Q16_1 0.056338028169014086\n",
      "Q16_2 0.01596244131455399\n",
      "Q16_3 0.04037558685446009\n"
     ]
    }
   ],
   "source": [
    "#평균값\n",
    "for item in qlist:\n",
    "    print(item, np.mean(df[item].values))"
   ]
  },
  {
   "cell_type": "code",
   "execution_count": 418,
   "metadata": {},
   "outputs": [
    {
     "name": "stdout",
     "output_type": "stream",
     "text": [
      "Q16_1 0.2305733175175338\n",
      "Q16_2 0.1253301311809471\n",
      "Q16_3 0.1968385095468314\n"
     ]
    }
   ],
   "source": [
    "#표준편차\n",
    "for item in qlist:\n",
    "    print(item, np.std(df_filtered[item].values))"
   ]
  },
  {
   "cell_type": "code",
   "execution_count": 419,
   "metadata": {},
   "outputs": [
    {
     "name": "stdout",
     "output_type": "stream",
     "text": [
      "0.09483568075117371 0.2929878400337379\n"
     ]
    }
   ],
   "source": [
    "total = df_filtered[(df_filtered['Q16_1'] == 1) | (df_filtered['Q16_2'] == 1) | (df_filtered['Q16_3'] == 1) ].index\n",
    "list_one = []\n",
    "for i in range(0,1065,1):\n",
    "    if i in total :\n",
    "        list_one.append(1)\n",
    "    else:\n",
    "        list_one.append(0)\n",
    "print(np.mean(list_one), np.std(list_one))"
   ]
  },
  {
   "cell_type": "markdown",
   "metadata": {},
   "source": [
    "#### 종합 혁신 활동 비율 분석 (과거시점)"
   ]
  },
  {
   "cell_type": "code",
   "execution_count": 420,
   "metadata": {},
   "outputs": [
    {
     "name": "stdout",
     "output_type": "stream",
     "text": [
      "918 147\n"
     ]
    }
   ],
   "source": [
    "past_non = df_filtered[df_filtered['ntis_past'] < 1].shape[0]\n",
    "past_part = df_filtered[df_filtered['ntis_past'] > 0].shape[0]\n",
    "print(past_non, past_part)"
   ]
  },
  {
   "cell_type": "code",
   "execution_count": 421,
   "metadata": {},
   "outputs": [
    {
     "data": {
      "text/plain": [
       "{-1.0, 0.0, 1.0}"
      ]
     },
     "execution_count": 421,
     "metadata": {},
     "output_type": "execute_result"
    }
   ],
   "source": [
    "set(df_filtered['ntis_past'].values)"
   ]
  },
  {
   "cell_type": "code",
   "execution_count": 423,
   "metadata": {},
   "outputs": [
    {
     "name": "stdout",
     "output_type": "stream",
     "text": [
      "4.1 15.0\n",
      "1.1 4.8\n",
      "3.8 5.4\n"
     ]
    }
   ],
   "source": [
    "for item in qlist:\n",
    "    participate = df_filtered[(df_filtered[item]==1) & (df_filtered['ntis_past'] > 0)].shape[0]\n",
    "    nonparticipate = df_filtered[(df_filtered[item]==1) & (df_filtered['ntis_past'] < 1)].shape[0]\n",
    "    print(round((nonparticipate/past_non)*100,1), round((participate/past_part)*100,1))"
   ]
  },
  {
   "cell_type": "code",
   "execution_count": 424,
   "metadata": {},
   "outputs": [
    {
     "name": "stdout",
     "output_type": "stream",
     "text": [
      "0.08061002178649238\n",
      "0.1836734693877551\n"
     ]
    }
   ],
   "source": [
    "innodf = df_filtered[((df_filtered['Q16_1'] == 1) | (df_filtered['Q16_2'] == 1) |(df_filtered['Q16_3'] == 1))]\n",
    "print(innodf[innodf['ntis_past'] < 1].shape[0]/past_non)\n",
    "print(innodf[innodf['ntis_past'] > 0].shape[0]/past_part)"
   ]
  },
  {
   "cell_type": "markdown",
   "metadata": {},
   "source": [
    "#### 종합 혁신 활동 비율 분석 (현재시점)"
   ]
  },
  {
   "cell_type": "code",
   "execution_count": 425,
   "metadata": {},
   "outputs": [
    {
     "name": "stdout",
     "output_type": "stream",
     "text": [
      "876 189\n"
     ]
    }
   ],
   "source": [
    "present_non = df_filtered[df_filtered['ntis_present'] < 1].shape[0]\n",
    "present_part = df_filtered[df_filtered['ntis_present'] > 0].shape[0]\n",
    "print(present_non, present_part)"
   ]
  },
  {
   "cell_type": "code",
   "execution_count": 426,
   "metadata": {},
   "outputs": [
    {
     "name": "stdout",
     "output_type": "stream",
     "text": [
      "3.9 13.8\n",
      "1.1 3.7\n",
      "3.9 4.8\n"
     ]
    }
   ],
   "source": [
    "for item in qlist:\n",
    "    participate = df_filtered[(df_filtered[item]==1) & (df_filtered['ntis_present'] > 0)].shape[0]\n",
    "    nonparticipate = df_filtered[(df_filtered[item]==1) & (df_filtered['ntis_present'] < 1)].shape[0]\n",
    "    print(round((nonparticipate/present_non)*100,1), round((participate/present_part)*100,1))"
   ]
  },
  {
   "cell_type": "code",
   "execution_count": 427,
   "metadata": {},
   "outputs": [
    {
     "name": "stdout",
     "output_type": "stream",
     "text": [
      "0.07876712328767123\n",
      "0.1693121693121693\n"
     ]
    }
   ],
   "source": [
    "innodf = df_filtered[((df_filtered['Q16_1'] == 1) | (df_filtered['Q16_2'] == 1) |(df_filtered['Q16_3'] == 1))]\n",
    "print(innodf[innodf['ntis_present'] < 1].shape[0]/present_non)\n",
    "print(innodf[innodf['ntis_present'] > 0].shape[0]/present_part)"
   ]
  },
  {
   "cell_type": "code",
   "execution_count": null,
   "metadata": {},
   "outputs": [],
   "source": []
  },
  {
   "cell_type": "markdown",
   "metadata": {},
   "source": [
    "# 추가분석"
   ]
  },
  {
   "cell_type": "markdown",
   "metadata": {},
   "source": [
    "#### 혁신협력: 기초 통계량, 과거, 현재"
   ]
  },
  {
   "cell_type": "code",
   "execution_count": 1,
   "metadata": {},
   "outputs": [],
   "source": [
    "import pandas as pd\n",
    "import numpy as np"
   ]
  },
  {
   "cell_type": "code",
   "execution_count": 2,
   "metadata": {},
   "outputs": [],
   "source": [
    "def analysis1(df):\n",
    "    total_count = df.shape[0]\n",
    "    average = []\n",
    "    stats_data = []\n",
    "    list_one=[]\n",
    "    qlist = ['Q11_1','Q11_2','Q11_3','Q11_4','Q11_5','Q11_6']\n",
    "    for item in qlist:\n",
    "        stats_data.append([item, total_count, round(np.mean(df[item].values),4), round(np.std(df[item].values),4)])\n",
    "        average.append(np.mean(df[item].values))\n",
    "    total_1 = df[(df['Q11_1'] == 1) | (df['Q11_2'] == 1) |(df['Q11_3'] == 1) | (df['Q11_4'] == 1) | (df['Q11_5'] == 1) | (df['Q11_6'] == 1)].index\n",
    "    for i in range(0,total_count,1):\n",
    "        if i in total_1 :\n",
    "            list_one.append(1)\n",
    "        else:\n",
    "            list_one.append(0)\n",
    "    stats_data.append(['Total',total_count,round(np.mean(list_one),4), round(np.std(list_one),4)])\n",
    "    average.append(round(np.mean(list_one),4))\n",
    "    \n",
    "    \n",
    "    \n",
    "    past_non = df[df['ntis_past'] < 1].shape[0]\n",
    "    past_part = df[df['ntis_past'] > 0].shape[0]\n",
    "    past_data = []\n",
    "    i = 0\n",
    "    for item in qlist:\n",
    "        participate = df[(df[item]==1) & (df['ntis_past'] > 0)].shape[0]\n",
    "        nonparticipate = df[(df[item]==1) & (df['ntis_past'] < 1)].shape[0]\n",
    "        a = (nonparticipate/past_non)\n",
    "        b = (participate/past_part)\n",
    "        c = average[i]\n",
    "        past_data.append([item, round(a*100,1), round(b*100,1), round(c*100,1),\n",
    "                          round((b-a)*100,1), round((b/c),1), round(((b-a)/c),3)]) \n",
    "        i +=1\n",
    "    tempdf = df[((df['Q11_1'] == 1) | (df['Q11_2'] == 1) |(df['Q11_3'] == 1) | (df['Q11_4'] == 1) | (df['Q11_5'] == 1) | (df['Q11_6'] == 1))]\n",
    "    a = (tempdf[tempdf['ntis_past'] < 1].shape[0]/past_non)\n",
    "    b = (tempdf[tempdf['ntis_past'] > 0].shape[0]/past_part)\n",
    "    c = average[-1]\n",
    "    past_data.append(['Total', round(a*100,1), round(b*100,1), round(c*100,1),\n",
    "                      round((b-a)*100,1), round((b/c),1), round(((b-a)/c),3)]) \n",
    "    past_data.append(['obs', past_non, past_part, total_count,'-','-','-'])\n",
    "    \n",
    "    \n",
    "    present_non = df[df['ntis_present']<1].shape[0]\n",
    "    present_part = df[df['ntis_present'] > 0].shape[0]\n",
    "    present_data = []\n",
    "    i = 0\n",
    "    for item in qlist:\n",
    "        participate = df[(df[item]==1) & (df['ntis_present'] > 0)].shape[0]\n",
    "        nonparticipate = df[(df[item]==1) & (df['ntis_present'] < 1)].shape[0]\n",
    "        a = (nonparticipate/present_non)\n",
    "        b = (participate/present_part)\n",
    "        c = average[i]\n",
    "        present_data.append([item, round(a*100,1), round(b*100,1), round(c*100,1),\n",
    "                          round((b-a)*100,1), round((b/c),1), round(((b-a)/c),3)]) \n",
    "        i +=1\n",
    "    tempdf = df[((df['Q11_1'] == 1) | (df['Q11_2'] == 1) |(df['Q11_3'] == 1) | (df['Q11_4'] == 1) | (df['Q11_5'] == 1) | (df['Q11_6'] == 1))]\n",
    "    a = (tempdf[tempdf['ntis_present'] < 1].shape[0]/present_non)\n",
    "    b = (tempdf[tempdf['ntis_present'] > 0].shape[0]/present_part)\n",
    "    c = average[-1]\n",
    "    present_data.append(['Total', round(a*100,1), round(b*100,1), round(c*100,1),\n",
    "                      round((b-a)*100,1), round((b/c),1), round(((b-a)/c),3)]) \n",
    "    present_data.append(['obs', present_non, present_part, total_count,'-','-','-'])\n",
    "    return pd.DataFrame(stats_data), pd.DataFrame(past_data), pd.DataFrame(present_data)\n"
   ]
  },
  {
   "cell_type": "markdown",
   "metadata": {},
   "source": [
    "#### 혁신협력: 기초 통계량, 과거, 현재"
   ]
  },
  {
   "cell_type": "code",
   "execution_count": 23,
   "metadata": {},
   "outputs": [],
   "source": [
    "def analysis2(df):\n",
    "    df = df[(df['Q16_1'] > -1) & (df['Q16_2'] > -1) & (df['Q16_3'] > -1)]\n",
    "    df.reset_index(inplace = True)\n",
    "    total_count = df.shape[0]\n",
    "    qlist = ['Q16_1','Q16_2','Q16_3']\n",
    "    average = []\n",
    "    stats_data = []\n",
    "    for item in qlist:\n",
    "        stats_data.append([item, total_count, round(np.mean(df[item].values),4), round(np.std(df[item].values),4)])\n",
    "        average.append(np.mean(df[item].values))\n",
    "    total = df[(df['Q16_1'] == 1) | (df['Q16_2'] == 1) | (df['Q16_3'] == 1) ].index\n",
    "    list_one = []\n",
    "    for i in range(0,1065,1):\n",
    "        if i in total :\n",
    "            list_one.append(1)\n",
    "        else:\n",
    "            list_one.append(0)\n",
    "    stats_data.append(['Total', total_count, round(np.mean(list_one),4), round(np.std(list_one),4)])\n",
    "    average.append(np.mean(list_one))\n",
    "\n",
    "    past_non = df[df['ntis_past'] < 1].shape[0]\n",
    "    past_part = df[df['ntis_past'] > 0].shape[0]\n",
    "    past_data = []\n",
    "    i = 0\n",
    "    for item in qlist:\n",
    "        participate = df[(df[item]==1) & (df['ntis_past'] > 0)].shape[0]\n",
    "        nonparticipate = df[(df[item]==1) & (df['ntis_past'] < 1)].shape[0]\n",
    "        a = (nonparticipate/past_non)\n",
    "        b = (participate/past_part)\n",
    "        c = average[i]\n",
    "        past_data.append([item, round(a*100,1), round(b*100,1), round(c*100,1),\n",
    "                          round((b-a)*100,1), round((b/c),1), round(((b-a)/c),3)]) \n",
    "        i +=1\n",
    "    tempdf = df[(df['Q16_1'] == 1) | (df['Q16_2'] == 1) | (df['Q16_3'] == 1) ]\n",
    "    a = (tempdf[tempdf['ntis_past'] < 1].shape[0]/past_non)\n",
    "    b = (tempdf[tempdf['ntis_past'] > 0].shape[0]/past_part)\n",
    "    c = average[-1]\n",
    "    past_data.append(['Total', round(a*100,1), round(b*100,1), round(c*100,1),\n",
    "                      round((b-a)*100,1), round((b/c),1), round(((b-a)/c),3)]) \n",
    "    past_data.append(['obs', past_non, past_part, total_count,'-','-','-'])\n",
    "\n",
    "\n",
    "    present_non = df[df['ntis_present']<1].shape[0]\n",
    "    present_part = df[df['ntis_present'] > 0].shape[0]\n",
    "    present_data = []\n",
    "    i = 0\n",
    "    for item in qlist:\n",
    "        participate = df[(df[item]==1) & (df['ntis_present'] > 0)].shape[0]\n",
    "        nonparticipate = df[(df[item]==1) & (df['ntis_present'] < 1)].shape[0]\n",
    "        a = (nonparticipate/present_non)\n",
    "        b = (participate/present_part)\n",
    "        c = average[i]\n",
    "        present_data.append([item, round(a*100,1), round(b*100,1), round(c*100,1),\n",
    "                          round((b-a)*100,1), round((b/c),1), round(((b-a)/c),3)]) \n",
    "        i +=1\n",
    "    tempdf = df[(df['Q16_1'] == 1) | (df['Q16_2'] == 1) | (df['Q16_3'] == 1) ]\n",
    "    a = (tempdf[tempdf['ntis_present'] < 1].shape[0]/present_non)\n",
    "    b = (tempdf[tempdf['ntis_present'] > 0].shape[0]/present_part)\n",
    "    c = average[-1]\n",
    "    present_data.append(['Total', round(a*100,1), round(b*100,1), round(c*100,1),\n",
    "                      round((b-a)*100,1), round((b/c),1), round(((b-a)/c),3)]) \n",
    "    present_data.append(['obs', present_non, present_part, total_count,'-','-','-'])\n",
    "    return pd.DataFrame(stats_data), pd.DataFrame(past_data), pd.DataFrame(present_data)"
   ]
  },
  {
   "cell_type": "code",
   "execution_count": 27,
   "metadata": {},
   "outputs": [],
   "source": [
    "df = pd.read_csv(r'C:\\Users\\Yunseok Choi\\Google 드라이브\\기술경영대학원\\STEPI\\Government R&D\\kis-ntis.csv')\n",
    "df.fillna(-1, inplace = True)\n",
    "df.drop(3999, axis = 0, inplace = True)"
   ]
  },
  {
   "cell_type": "code",
   "execution_count": 28,
   "metadata": {},
   "outputs": [],
   "source": [
    "df = df[(df['sector'] != 4) & (df['sector'] != 5) & (df['sector'] != 7)]"
   ]
  },
  {
   "cell_type": "code",
   "execution_count": 29,
   "metadata": {},
   "outputs": [
    {
     "name": "stdout",
     "output_type": "stream",
     "text": [
      "(498, 361)\n",
      "(215, 361)\n",
      "(5, 361)\n",
      "(450, 361)\n",
      "(11, 361)\n",
      "(137, 361)\n",
      " \n",
      "(25, 361)\n",
      "(7, 361)\n",
      "(19, 361)\n"
     ]
    }
   ],
   "source": [
    "for item in ['Q11_1','Q11_2','Q11_3','Q11_4','Q11_5','Q11_6']:\n",
    "    print(df[df[item]==1].shape)\n",
    "print(' ')\n",
    "for item in ['Q16_1','Q16_2','Q16_3']:\n",
    "    print(df[df[item]==1].shape)"
   ]
  },
  {
   "cell_type": "code",
   "execution_count": 30,
   "metadata": {},
   "outputs": [],
   "source": [
    "a, b, c, = analysis1(df)\n",
    "a.to_excel(r'C:\\Users\\Yunseok Choi\\Google 드라이브\\기술경영대학원\\STEPI\\Government R&D\\11stats.xlsx')\n",
    "b.to_excel(r'C:\\Users\\Yunseok Choi\\Google 드라이브\\기술경영대학원\\STEPI\\Government R&D\\12past.xlsx')\n",
    "c.to_excel(r'C:\\Users\\Yunseok Choi\\Google 드라이브\\기술경영대학원\\STEPI\\Government R&D\\13present.xlsx')"
   ]
  },
  {
   "cell_type": "code",
   "execution_count": 31,
   "metadata": {},
   "outputs": [],
   "source": [
    "d, e, f, = analysis2(df)\n",
    "d.to_excel(r'C:\\Users\\Yunseok Choi\\Google 드라이브\\기술경영대학원\\STEPI\\Government R&D\\21stats.xlsx')\n",
    "e.to_excel(r'C:\\Users\\Yunseok Choi\\Google 드라이브\\기술경영대학원\\STEPI\\Government R&D\\22past.xlsx')\n",
    "f.to_excel(r'C:\\Users\\Yunseok Choi\\Google 드라이브\\기술경영대학원\\STEPI\\Government R&D\\23present.xlsx')"
   ]
  },
  {
   "cell_type": "code",
   "execution_count": null,
   "metadata": {},
   "outputs": [],
   "source": []
  },
  {
   "cell_type": "markdown",
   "metadata": {},
   "source": [
    "# 법정유형"
   ]
  },
  {
   "cell_type": "code",
   "execution_count": 494,
   "metadata": {},
   "outputs": [
    {
     "name": "stderr",
     "output_type": "stream",
     "text": [
      "C:\\Users\\Yunseok Choi\\Anaconda3\\lib\\site-packages\\IPython\\core\\interactiveshell.py:3444: DtypeWarning: Columns (117,127,333) have mixed types.Specify dtype option on import or set low_memory=False.\n",
      "  exec(code_obj, self.user_global_ns, self.user_ns)\n"
     ]
    }
   ],
   "source": [
    "df = pd.read_csv(r'C:\\Users\\Yunseok Choi\\Google 드라이브\\기술경영대학원\\STEPI\\Government R&D\\kis-ntis.csv')\n",
    "df.fillna(-1, inplace = True)\n",
    "df.drop(3999, axis = 0, inplace = True)"
   ]
  },
  {
   "cell_type": "code",
   "execution_count": 495,
   "metadata": {},
   "outputs": [],
   "source": [
    "qlist = ['Q36_02']"
   ]
  },
  {
   "cell_type": "code",
   "execution_count": 496,
   "metadata": {},
   "outputs": [],
   "source": [
    "multiple = [1,2,3,4]"
   ]
  },
  {
   "cell_type": "code",
   "execution_count": 500,
   "metadata": {},
   "outputs": [
    {
     "data": {
      "text/plain": [
       "{1, 2, 3, 4}"
      ]
     },
     "execution_count": 500,
     "metadata": {},
     "output_type": "execute_result"
    }
   ],
   "source": [
    "set(df['Q36_02'])"
   ]
  },
  {
   "cell_type": "code",
   "execution_count": 501,
   "metadata": {},
   "outputs": [
    {
     "data": {
      "text/plain": [
       "{-1.0, 0.0, 1.0}"
      ]
     },
     "execution_count": 501,
     "metadata": {},
     "output_type": "execute_result"
    }
   ],
   "source": [
    "set(df['ntis_past'])"
   ]
  },
  {
   "cell_type": "code",
   "execution_count": 502,
   "metadata": {},
   "outputs": [
    {
     "data": {
      "text/plain": [
       "{-1.0, 0.0, 1.0, 2.0, 3.0, 4.0, 5.0, 6.0, 7.0, 9.0}"
      ]
     },
     "execution_count": 502,
     "metadata": {},
     "output_type": "execute_result"
    }
   ],
   "source": [
    "set(df['ntis_present'])"
   ]
  },
  {
   "cell_type": "code",
   "execution_count": 503,
   "metadata": {},
   "outputs": [
    {
     "name": "stdout",
     "output_type": "stream",
     "text": [
      "{1, 2, 3, 4}\n"
     ]
    }
   ],
   "source": [
    "for item in qlist:\n",
    "    print(set(df[item]))"
   ]
  },
  {
   "cell_type": "code",
   "execution_count": 507,
   "metadata": {},
   "outputs": [
    {
     "name": "stderr",
     "output_type": "stream",
     "text": [
      "C:\\Users\\YUNSEO~1\\AppData\\Local\\Temp/ipykernel_4884/2647663716.py:3: SettingWithCopyWarning: \n",
      "A value is trying to be set on a copy of a slice from a DataFrame\n",
      "\n",
      "See the caveats in the documentation: https://pandas.pydata.org/pandas-docs/stable/user_guide/indexing.html#returning-a-view-versus-a-copy\n",
      "  df['SME'][i] = 1\n",
      "C:\\Users\\YUNSEO~1\\AppData\\Local\\Temp/ipykernel_4884/2647663716.py:9: SettingWithCopyWarning: \n",
      "A value is trying to be set on a copy of a slice from a DataFrame\n",
      "\n",
      "See the caveats in the documentation: https://pandas.pydata.org/pandas-docs/stable/user_guide/indexing.html#returning-a-view-versus-a-copy\n",
      "  df['Incumbent'][i] = 0\n",
      "C:\\Users\\YUNSEO~1\\AppData\\Local\\Temp/ipykernel_4884/2647663716.py:5: SettingWithCopyWarning: \n",
      "A value is trying to be set on a copy of a slice from a DataFrame\n",
      "\n",
      "See the caveats in the documentation: https://pandas.pydata.org/pandas-docs/stable/user_guide/indexing.html#returning-a-view-versus-a-copy\n",
      "  df['SME'][i] = 0\n",
      "C:\\Users\\YUNSEO~1\\AppData\\Local\\Temp/ipykernel_4884/2647663716.py:7: SettingWithCopyWarning: \n",
      "A value is trying to be set on a copy of a slice from a DataFrame\n",
      "\n",
      "See the caveats in the documentation: https://pandas.pydata.org/pandas-docs/stable/user_guide/indexing.html#returning-a-view-versus-a-copy\n",
      "  df['Incumbent'][i] = 1\n"
     ]
    }
   ],
   "source": [
    "sme = df[(df[\"Q36_02\"]==1) | (df[\"Q36_02\"]==2)].index\n",
    "incumbent = df[(df[\"Q36_02\"]== 3) | (df[\"Q36_02\"]==4)].index\n",
    "df['SME'] = ''\n",
    "df['Incumbent'] = ''\n",
    "for i in range(0,3999,1):\n",
    "    if i in sme:\n",
    "        df['SME'][i] = 1\n",
    "    else:\n",
    "        df['SME'][i] = 0\n",
    "    if i in incumbent:\n",
    "        df['Incumbent'][i] = 1\n",
    "    else:\n",
    "        df['Incumbent'][i] = 0"
   ]
  },
  {
   "cell_type": "markdown",
   "metadata": {},
   "source": [
    "#### 기초 통계량: 법정유형"
   ]
  },
  {
   "cell_type": "code",
   "execution_count": 508,
   "metadata": {},
   "outputs": [
    {
     "name": "stdout",
     "output_type": "stream",
     "text": [
      "0.8182045511377845 0.18179544886221555\n"
     ]
    }
   ],
   "source": [
    "#평균값\n",
    "print(np.mean(df['SME'].values), np.mean(df['Incumbent'].values))"
   ]
  },
  {
   "cell_type": "code",
   "execution_count": 509,
   "metadata": {},
   "outputs": [
    {
     "name": "stdout",
     "output_type": "stream",
     "text": [
      "0.3856758530621127 0.3856758530621127\n"
     ]
    }
   ],
   "source": [
    "print(np.std(df['SME'].values), np.std(df['Incumbent'].values))"
   ]
  },
  {
   "cell_type": "markdown",
   "metadata": {},
   "source": [
    "#### 종합 혁신 활동 비율 분석 (과거시점)"
   ]
  },
  {
   "cell_type": "code",
   "execution_count": 513,
   "metadata": {},
   "outputs": [
    {
     "data": {
      "text/plain": [
       "{-1.0, 0.0, 1.0}"
      ]
     },
     "execution_count": 513,
     "metadata": {},
     "output_type": "execute_result"
    }
   ],
   "source": [
    "set(df['ntis_past'].values)"
   ]
  },
  {
   "cell_type": "code",
   "execution_count": 511,
   "metadata": {},
   "outputs": [
    {
     "name": "stdout",
     "output_type": "stream",
     "text": [
      "3776 223\n"
     ]
    }
   ],
   "source": [
    "past_non = df[df['ntis_past'] < 1].shape[0]\n",
    "past_part = df[df['ntis_past'] > 0].shape[0]\n",
    "print(past_non, past_part)"
   ]
  },
  {
   "cell_type": "code",
   "execution_count": 514,
   "metadata": {},
   "outputs": [
    {
     "name": "stdout",
     "output_type": "stream",
     "text": [
      "17.4 47.5\n"
     ]
    }
   ],
   "source": [
    "participate = df[(df['SME']==1) & (df_filtered['ntis_past'] > 0)].shape[0]\n",
    "nonparticipate = df[(df['SME']==1) & (df_filtered['ntis_past'] < 1)].shape[0]\n",
    "print(round((nonparticipate/past_non)*100,1), round((participate/past_part)*100,1))"
   ]
  },
  {
   "cell_type": "code",
   "execution_count": 515,
   "metadata": {},
   "outputs": [
    {
     "name": "stdout",
     "output_type": "stream",
     "text": [
      "6.9 18.4\n"
     ]
    }
   ],
   "source": [
    "participate = df[(df['Incumbent']==1) & (df_filtered['ntis_past'] > 0)].shape[0]\n",
    "nonparticipate = df[(df['Incumbent']==1) & (df_filtered['ntis_past'] < 1)].shape[0]\n",
    "print(round((nonparticipate/past_non)*100,1), round((participate/past_part)*100,1))"
   ]
  },
  {
   "cell_type": "markdown",
   "metadata": {},
   "source": [
    "#### 종합 혁신 활동 비율 분석 (현재시점)"
   ]
  },
  {
   "cell_type": "code",
   "execution_count": 518,
   "metadata": {
    "scrolled": true
   },
   "outputs": [
    {
     "data": {
      "text/plain": [
       "{-1.0, 0.0, 1.0, 2.0, 3.0, 4.0, 5.0, 6.0, 7.0, 9.0}"
      ]
     },
     "execution_count": 518,
     "metadata": {},
     "output_type": "execute_result"
    }
   ],
   "source": [
    "set(df['ntis_present'].values)"
   ]
  },
  {
   "cell_type": "code",
   "execution_count": 520,
   "metadata": {},
   "outputs": [
    {
     "name": "stdout",
     "output_type": "stream",
     "text": [
      "3699 300\n"
     ]
    }
   ],
   "source": [
    "present_non = df[df['ntis_present'] < 1].shape[0]\n",
    "present_part = df[df['ntis_present'] > 0].shape[0]\n",
    "print(past_non, past_part)"
   ]
  },
  {
   "cell_type": "code",
   "execution_count": 521,
   "metadata": {},
   "outputs": [
    {
     "name": "stdout",
     "output_type": "stream",
     "text": [
      "17.0 44.7\n"
     ]
    }
   ],
   "source": [
    "participate = df[(df['SME']==1) & (df_filtered['ntis_present'] > 0)].shape[0]\n",
    "nonparticipate = df[(df['SME']==1) & (df_filtered['ntis_present'] < 1)].shape[0]\n",
    "print(round((nonparticipate/present_non)*100,1), round((participate/present_part)*100,1))"
   ]
  },
  {
   "cell_type": "code",
   "execution_count": 522,
   "metadata": {},
   "outputs": [
    {
     "name": "stdout",
     "output_type": "stream",
     "text": [
      "6.7 18.3\n"
     ]
    }
   ],
   "source": [
    "participate = df[(df['Incumbent']==1) & (df_filtered['ntis_present'] > 0)].shape[0]\n",
    "nonparticipate = df[(df['Incumbent']==1) & (df_filtered['ntis_present'] < 1)].shape[0]\n",
    "print(round((nonparticipate/present_non)*100,1), round((participate/present_part)*100,1))"
   ]
  },
  {
   "cell_type": "code",
   "execution_count": null,
   "metadata": {},
   "outputs": [],
   "source": []
  },
  {
   "cell_type": "markdown",
   "metadata": {},
   "source": [
    "# 종사자수"
   ]
  },
  {
   "cell_type": "code",
   "execution_count": 549,
   "metadata": {},
   "outputs": [],
   "source": [
    "df = pd.read_csv(r'C:\\Users\\Yunseok Choi\\Google 드라이브\\기술경영대학원\\STEPI\\Government R&D\\kis-ntis.csv')\n",
    "df.drop(3999, axis = 0, inplace = True)\n",
    "df.fillna(-1, inplace = True)"
   ]
  },
  {
   "cell_type": "code",
   "execution_count": 551,
   "metadata": {
    "scrolled": true
   },
   "outputs": [
    {
     "data": {
      "text/plain": [
       "{10,\n",
       " 11,\n",
       " 12,\n",
       " 13,\n",
       " 14,\n",
       " 15,\n",
       " 16,\n",
       " 17,\n",
       " 18,\n",
       " 19,\n",
       " 20,\n",
       " 21,\n",
       " 22,\n",
       " 23,\n",
       " 24,\n",
       " 25,\n",
       " 26,\n",
       " 27,\n",
       " 28,\n",
       " 29,\n",
       " 30,\n",
       " 31,\n",
       " 32,\n",
       " 33,\n",
       " 34,\n",
       " 35,\n",
       " 36,\n",
       " 37,\n",
       " 38,\n",
       " 39,\n",
       " 40,\n",
       " 41,\n",
       " 42,\n",
       " 43,\n",
       " 44,\n",
       " 45,\n",
       " 46,\n",
       " 47,\n",
       " 48,\n",
       " 49,\n",
       " 50,\n",
       " 51,\n",
       " 52,\n",
       " 53,\n",
       " 54,\n",
       " 55,\n",
       " 56,\n",
       " 57,\n",
       " 58,\n",
       " 59,\n",
       " 60,\n",
       " 61,\n",
       " 62,\n",
       " 63,\n",
       " 64,\n",
       " 65,\n",
       " 66,\n",
       " 67,\n",
       " 68,\n",
       " 69,\n",
       " 70,\n",
       " 71,\n",
       " 72,\n",
       " 73,\n",
       " 74,\n",
       " 75,\n",
       " 76,\n",
       " 77,\n",
       " 78,\n",
       " 79,\n",
       " 80,\n",
       " 81,\n",
       " 82,\n",
       " 83,\n",
       " 84,\n",
       " 85,\n",
       " 86,\n",
       " 87,\n",
       " 88,\n",
       " 89,\n",
       " 90,\n",
       " 91,\n",
       " 92,\n",
       " 93,\n",
       " 94,\n",
       " 95,\n",
       " 96,\n",
       " 97,\n",
       " 98,\n",
       " 99,\n",
       " 100,\n",
       " 101,\n",
       " 102,\n",
       " 103,\n",
       " 104,\n",
       " 105,\n",
       " 106,\n",
       " 107,\n",
       " 108,\n",
       " 110,\n",
       " 111,\n",
       " 113,\n",
       " 114,\n",
       " 115,\n",
       " 116,\n",
       " 117,\n",
       " 118,\n",
       " 119,\n",
       " 120,\n",
       " 121,\n",
       " 122,\n",
       " 123,\n",
       " 124,\n",
       " 125,\n",
       " 126,\n",
       " 127,\n",
       " 128,\n",
       " 129,\n",
       " 130,\n",
       " 131,\n",
       " 132,\n",
       " 133,\n",
       " 134,\n",
       " 135,\n",
       " 136,\n",
       " 137,\n",
       " 138,\n",
       " 139,\n",
       " 140,\n",
       " 141,\n",
       " 142,\n",
       " 143,\n",
       " 144,\n",
       " 145,\n",
       " 146,\n",
       " 147,\n",
       " 149,\n",
       " 150,\n",
       " 151,\n",
       " 152,\n",
       " 153,\n",
       " 154,\n",
       " 155,\n",
       " 156,\n",
       " 157,\n",
       " 158,\n",
       " 159,\n",
       " 160,\n",
       " 162,\n",
       " 163,\n",
       " 164,\n",
       " 165,\n",
       " 166,\n",
       " 167,\n",
       " 168,\n",
       " 169,\n",
       " 170,\n",
       " 171,\n",
       " 172,\n",
       " 174,\n",
       " 175,\n",
       " 176,\n",
       " 177,\n",
       " 178,\n",
       " 179,\n",
       " 180,\n",
       " 181,\n",
       " 182,\n",
       " 183,\n",
       " 184,\n",
       " 185,\n",
       " 186,\n",
       " 187,\n",
       " 188,\n",
       " 190,\n",
       " 192,\n",
       " 193,\n",
       " 194,\n",
       " 195,\n",
       " 196,\n",
       " 197,\n",
       " 198,\n",
       " 199,\n",
       " 200,\n",
       " 201,\n",
       " 202,\n",
       " 203,\n",
       " 204,\n",
       " 205,\n",
       " 206,\n",
       " 207,\n",
       " 208,\n",
       " 209,\n",
       " 210,\n",
       " 212,\n",
       " 213,\n",
       " 214,\n",
       " 215,\n",
       " 216,\n",
       " 217,\n",
       " 218,\n",
       " 219,\n",
       " 220,\n",
       " 221,\n",
       " 222,\n",
       " 223,\n",
       " 224,\n",
       " 225,\n",
       " 226,\n",
       " 227,\n",
       " 228,\n",
       " 229,\n",
       " 230,\n",
       " 232,\n",
       " 233,\n",
       " 234,\n",
       " 235,\n",
       " 236,\n",
       " 239,\n",
       " 240,\n",
       " 242,\n",
       " 243,\n",
       " 245,\n",
       " 246,\n",
       " 247,\n",
       " 249,\n",
       " 250,\n",
       " 254,\n",
       " 255,\n",
       " 256,\n",
       " 257,\n",
       " 258,\n",
       " 259,\n",
       " 260,\n",
       " 261,\n",
       " 262,\n",
       " 264,\n",
       " 265,\n",
       " 266,\n",
       " 267,\n",
       " 268,\n",
       " 269,\n",
       " 270,\n",
       " 271,\n",
       " 272,\n",
       " 273,\n",
       " 274,\n",
       " 275,\n",
       " 277,\n",
       " 278,\n",
       " 280,\n",
       " 283,\n",
       " 284,\n",
       " 285,\n",
       " 286,\n",
       " 287,\n",
       " 288,\n",
       " 289,\n",
       " 290,\n",
       " 292,\n",
       " 293,\n",
       " 294,\n",
       " 295,\n",
       " 296,\n",
       " 297,\n",
       " 298,\n",
       " 299,\n",
       " 300,\n",
       " 302,\n",
       " 304,\n",
       " 306,\n",
       " 308,\n",
       " 314,\n",
       " 319,\n",
       " 320,\n",
       " 322,\n",
       " 324,\n",
       " 329,\n",
       " 330,\n",
       " 332,\n",
       " 334,\n",
       " 335,\n",
       " 336,\n",
       " 338,\n",
       " 340,\n",
       " 341,\n",
       " 343,\n",
       " 344,\n",
       " 345,\n",
       " 346,\n",
       " 350,\n",
       " 352,\n",
       " 353,\n",
       " 356,\n",
       " 357,\n",
       " 359,\n",
       " 360,\n",
       " 362,\n",
       " 364,\n",
       " 368,\n",
       " 369,\n",
       " 370,\n",
       " 373,\n",
       " 374,\n",
       " 376,\n",
       " 377,\n",
       " 378,\n",
       " 380,\n",
       " 381,\n",
       " 385,\n",
       " 389,\n",
       " 390,\n",
       " 393,\n",
       " 395,\n",
       " 397,\n",
       " 400,\n",
       " 401,\n",
       " 408,\n",
       " 409,\n",
       " 410,\n",
       " 411,\n",
       " 413,\n",
       " 414,\n",
       " 415,\n",
       " 416,\n",
       " 417,\n",
       " 420,\n",
       " 421,\n",
       " 423,\n",
       " 424,\n",
       " 428,\n",
       " 429,\n",
       " 430,\n",
       " 436,\n",
       " 437,\n",
       " 440,\n",
       " 442,\n",
       " 445,\n",
       " 446,\n",
       " 449,\n",
       " 450,\n",
       " 452,\n",
       " 453,\n",
       " 456,\n",
       " 458,\n",
       " 460,\n",
       " 463,\n",
       " 464,\n",
       " 466,\n",
       " 469,\n",
       " 471,\n",
       " 472,\n",
       " 473,\n",
       " 474,\n",
       " 476,\n",
       " 478,\n",
       " 479,\n",
       " 480,\n",
       " 483,\n",
       " 484,\n",
       " 490,\n",
       " 492,\n",
       " 495,\n",
       " 498,\n",
       " 499,\n",
       " 500,\n",
       " 504,\n",
       " 506,\n",
       " 510,\n",
       " 511,\n",
       " 515,\n",
       " 520,\n",
       " 522,\n",
       " 523,\n",
       " 527,\n",
       " 530,\n",
       " 531,\n",
       " 540,\n",
       " 550,\n",
       " 553,\n",
       " 560,\n",
       " 568,\n",
       " 570,\n",
       " 579,\n",
       " 580,\n",
       " 582,\n",
       " 586,\n",
       " 587,\n",
       " 590,\n",
       " 593,\n",
       " 599,\n",
       " 600,\n",
       " 603,\n",
       " 605,\n",
       " 610,\n",
       " 612,\n",
       " 619,\n",
       " 620,\n",
       " 628,\n",
       " 630,\n",
       " 631,\n",
       " 638,\n",
       " 640,\n",
       " 642,\n",
       " 643,\n",
       " 647,\n",
       " 649,\n",
       " 650,\n",
       " 660,\n",
       " 663,\n",
       " 665,\n",
       " 666,\n",
       " 668,\n",
       " 670,\n",
       " 674,\n",
       " 680,\n",
       " 682,\n",
       " 690,\n",
       " 694,\n",
       " 698,\n",
       " 700,\n",
       " 701,\n",
       " 705,\n",
       " 707,\n",
       " 708,\n",
       " 711,\n",
       " 712,\n",
       " 719,\n",
       " 720,\n",
       " 725,\n",
       " 730,\n",
       " 736,\n",
       " 737,\n",
       " 738,\n",
       " 744,\n",
       " 750,\n",
       " 758,\n",
       " 760,\n",
       " 770,\n",
       " 780,\n",
       " 785,\n",
       " 789,\n",
       " 790,\n",
       " 791,\n",
       " 793,\n",
       " 800,\n",
       " 820,\n",
       " 825,\n",
       " 828,\n",
       " 829,\n",
       " 830,\n",
       " 835,\n",
       " 840,\n",
       " 848,\n",
       " 849,\n",
       " 850,\n",
       " 852,\n",
       " 854,\n",
       " 860,\n",
       " 865,\n",
       " 866,\n",
       " 870,\n",
       " 873,\n",
       " 880,\n",
       " 890,\n",
       " 898,\n",
       " 900,\n",
       " 908,\n",
       " 909,\n",
       " 914,\n",
       " 918,\n",
       " 920,\n",
       " 924,\n",
       " 940,\n",
       " 950,\n",
       " 952,\n",
       " 961,\n",
       " 968,\n",
       " 980,\n",
       " 1000,\n",
       " 1018,\n",
       " 1030,\n",
       " 1043,\n",
       " 1062,\n",
       " 1070,\n",
       " 1078,\n",
       " 1085,\n",
       " 1089,\n",
       " 1092,\n",
       " 1100,\n",
       " 1157,\n",
       " 1171,\n",
       " 1180,\n",
       " 1200,\n",
       " 1201,\n",
       " 1210,\n",
       " 1218,\n",
       " 1250,\n",
       " 1265,\n",
       " 1300,\n",
       " 1313,\n",
       " 1338,\n",
       " 1350,\n",
       " 1360,\n",
       " 1380,\n",
       " 1383,\n",
       " 1400,\n",
       " 1435,\n",
       " 1447,\n",
       " 1465,\n",
       " 1470,\n",
       " 1473,\n",
       " 1500,\n",
       " 1509,\n",
       " 1600,\n",
       " 1617,\n",
       " 1620,\n",
       " 1650,\n",
       " 1677,\n",
       " 1700,\n",
       " 1703,\n",
       " 1707,\n",
       " 1742,\n",
       " 1800,\n",
       " 1861,\n",
       " 1900,\n",
       " 1920,\n",
       " 1927,\n",
       " 1970,\n",
       " 2000,\n",
       " 2013,\n",
       " 2080,\n",
       " 2100,\n",
       " 2126,\n",
       " 2144,\n",
       " 2200,\n",
       " 2214,\n",
       " 2224,\n",
       " 2237,\n",
       " 2250,\n",
       " 2265,\n",
       " 2270,\n",
       " 2271,\n",
       " 2283,\n",
       " 2300,\n",
       " 2329,\n",
       " 2373,\n",
       " 2400,\n",
       " 2428,\n",
       " 2442,\n",
       " 2500,\n",
       " 2526,\n",
       " 2547,\n",
       " 2600,\n",
       " 2670,\n",
       " 2682,\n",
       " 2700,\n",
       " 2743,\n",
       " 2787,\n",
       " 2800,\n",
       " 2886,\n",
       " 2920,\n",
       " 2952,\n",
       " 2966,\n",
       " 2977,\n",
       " 3000,\n",
       " 3158,\n",
       " 3200,\n",
       " 3240,\n",
       " 3348,\n",
       " 3447,\n",
       " 3500,\n",
       " 3740,\n",
       " 3750,\n",
       " 3872,\n",
       " 4000,\n",
       " 4120,\n",
       " 4150,\n",
       " 4200,\n",
       " 4211,\n",
       " 4300,\n",
       " 4650,\n",
       " 4770,\n",
       " 5000,\n",
       " 5120,\n",
       " 5560,\n",
       " 5649,\n",
       " 6341,\n",
       " 6496,\n",
       " 7000,\n",
       " 7479,\n",
       " 7984,\n",
       " 8358,\n",
       " 9000,\n",
       " 9173,\n",
       " 10000,\n",
       " 11485,\n",
       " 13000,\n",
       " 13319,\n",
       " 22000,\n",
       " 24600}"
      ]
     },
     "execution_count": 551,
     "metadata": {},
     "output_type": "execute_result"
    }
   ],
   "source": [
    "set(df['Q38_01_3'].values)"
   ]
  },
  {
   "cell_type": "code",
   "execution_count": 552,
   "metadata": {},
   "outputs": [
    {
     "data": {
      "text/plain": [
       "{-1.0, 0.0, 1.0}"
      ]
     },
     "execution_count": 552,
     "metadata": {},
     "output_type": "execute_result"
    }
   ],
   "source": [
    "set(df['ntis_past'])"
   ]
  },
  {
   "cell_type": "code",
   "execution_count": 553,
   "metadata": {},
   "outputs": [
    {
     "data": {
      "text/plain": [
       "{-1.0, 0.0, 1.0, 2.0, 3.0, 4.0, 5.0, 6.0, 7.0, 9.0}"
      ]
     },
     "execution_count": 553,
     "metadata": {},
     "output_type": "execute_result"
    }
   ],
   "source": [
    "set(df['ntis_present'])"
   ]
  },
  {
   "cell_type": "code",
   "execution_count": 556,
   "metadata": {},
   "outputs": [
    {
     "name": "stderr",
     "output_type": "stream",
     "text": [
      "C:\\Users\\YUNSEO~1\\AppData\\Local\\Temp/ipykernel_4884/831752748.py:9: SettingWithCopyWarning: \n",
      "A value is trying to be set on a copy of a slice from a DataFrame\n",
      "\n",
      "See the caveats in the documentation: https://pandas.pydata.org/pandas-docs/stable/user_guide/indexing.html#returning-a-view-versus-a-copy\n",
      "  df['emp_small'][i] = 0\n",
      "C:\\Users\\YUNSEO~1\\AppData\\Local\\Temp/ipykernel_4884/831752748.py:11: SettingWithCopyWarning: \n",
      "A value is trying to be set on a copy of a slice from a DataFrame\n",
      "\n",
      "See the caveats in the documentation: https://pandas.pydata.org/pandas-docs/stable/user_guide/indexing.html#returning-a-view-versus-a-copy\n",
      "  df['emp_big'][i] = 1\n",
      "C:\\Users\\YUNSEO~1\\AppData\\Local\\Temp/ipykernel_4884/831752748.py:7: SettingWithCopyWarning: \n",
      "A value is trying to be set on a copy of a slice from a DataFrame\n",
      "\n",
      "See the caveats in the documentation: https://pandas.pydata.org/pandas-docs/stable/user_guide/indexing.html#returning-a-view-versus-a-copy\n",
      "  df['emp_small'][i] = 1\n",
      "C:\\Users\\YUNSEO~1\\AppData\\Local\\Temp/ipykernel_4884/831752748.py:13: SettingWithCopyWarning: \n",
      "A value is trying to be set on a copy of a slice from a DataFrame\n",
      "\n",
      "See the caveats in the documentation: https://pandas.pydata.org/pandas-docs/stable/user_guide/indexing.html#returning-a-view-versus-a-copy\n",
      "  df['emp_big'][i] = 0\n"
     ]
    }
   ],
   "source": [
    "emp_small = df[(df[\"Q38_01_3\"]<=10)].index\n",
    "emp_big = df[(df[\"Q38_01_3\"]>10)].index\n",
    "df['emp_small'] = ''\n",
    "df['emp_big'] = ''\n",
    "for i in range(0,3999,1):\n",
    "    if i in emp_small:\n",
    "        df['emp_small'][i] = 1\n",
    "    else:\n",
    "        df['emp_small'][i] = 0\n",
    "    if i in emp_big:\n",
    "        df['emp_big'][i] = 1\n",
    "    else:\n",
    "        df['emp_big'][i] = 0"
   ]
  },
  {
   "cell_type": "markdown",
   "metadata": {},
   "source": [
    "#### 기초 통계량: 법정유형"
   ]
  },
  {
   "cell_type": "code",
   "execution_count": 557,
   "metadata": {},
   "outputs": [
    {
     "name": "stdout",
     "output_type": "stream",
     "text": [
      "0.06126531632908227 0.9387346836709177\n"
     ]
    }
   ],
   "source": [
    "#평균값\n",
    "print(np.mean(df['emp_small'].values), np.mean(df['emp_big'].values))"
   ]
  },
  {
   "cell_type": "code",
   "execution_count": 558,
   "metadata": {},
   "outputs": [
    {
     "name": "stdout",
     "output_type": "stream",
     "text": [
      "0.23981634086146794 0.23981634086146794\n"
     ]
    }
   ],
   "source": [
    "print(np.std(df['emp_small'].values), np.std(df['emp_big'].values))"
   ]
  },
  {
   "cell_type": "markdown",
   "metadata": {},
   "source": [
    "#### 종합 혁신 활동 비율 분석 (과거시점)"
   ]
  },
  {
   "cell_type": "code",
   "execution_count": 559,
   "metadata": {},
   "outputs": [
    {
     "data": {
      "text/plain": [
       "{-1.0, 0.0, 1.0}"
      ]
     },
     "execution_count": 559,
     "metadata": {},
     "output_type": "execute_result"
    }
   ],
   "source": [
    "set(df['ntis_past'].values)"
   ]
  },
  {
   "cell_type": "code",
   "execution_count": 560,
   "metadata": {},
   "outputs": [
    {
     "name": "stdout",
     "output_type": "stream",
     "text": [
      "3776 223\n"
     ]
    }
   ],
   "source": [
    "past_non = df[df['ntis_past'] < 1].shape[0]\n",
    "past_part = df[df['ntis_past'] > 0].shape[0]\n",
    "print(past_non, past_part)"
   ]
  },
  {
   "cell_type": "code",
   "execution_count": 561,
   "metadata": {},
   "outputs": [
    {
     "name": "stdout",
     "output_type": "stream",
     "text": [
      "1.1 1.8\n"
     ]
    }
   ],
   "source": [
    "participate = df[(df['emp_small']==1) & (df_filtered['ntis_past'] > 0)].shape[0]\n",
    "nonparticipate = df[(df['emp_small']==1) & (df_filtered['ntis_past'] < 1)].shape[0]\n",
    "print(round((nonparticipate/past_non)*100,1), round((participate/past_part)*100,1))"
   ]
  },
  {
   "cell_type": "code",
   "execution_count": 564,
   "metadata": {},
   "outputs": [
    {
     "name": "stdout",
     "output_type": "stream",
     "text": [
      "23.2 64.1\n"
     ]
    }
   ],
   "source": [
    "participate = df[(df['emp_big']==1) & (df_filtered['ntis_past'] > 0)].shape[0]\n",
    "nonparticipate = df[(df['emp_big']==1) & (df_filtered['ntis_past'] < 1)].shape[0]\n",
    "print(round((nonparticipate/past_non)*100,1), round((participate/past_part)*100,1))"
   ]
  },
  {
   "cell_type": "markdown",
   "metadata": {},
   "source": [
    "#### 종합 혁신 활동 비율 분석 (현재시점)"
   ]
  },
  {
   "cell_type": "code",
   "execution_count": 565,
   "metadata": {
    "scrolled": true
   },
   "outputs": [
    {
     "data": {
      "text/plain": [
       "{-1.0, 0.0, 1.0, 2.0, 3.0, 4.0, 5.0, 6.0, 7.0, 9.0}"
      ]
     },
     "execution_count": 565,
     "metadata": {},
     "output_type": "execute_result"
    }
   ],
   "source": [
    "set(df['ntis_present'].values)"
   ]
  },
  {
   "cell_type": "code",
   "execution_count": 567,
   "metadata": {},
   "outputs": [
    {
     "name": "stdout",
     "output_type": "stream",
     "text": [
      "3699 300\n"
     ]
    }
   ],
   "source": [
    "present_non = df[df['ntis_present'] < 1].shape[0]\n",
    "present_part = df[df['ntis_present'] > 0].shape[0]\n",
    "print(present_non, present_part)"
   ]
  },
  {
   "cell_type": "code",
   "execution_count": 568,
   "metadata": {},
   "outputs": [
    {
     "name": "stdout",
     "output_type": "stream",
     "text": [
      "1.0 2.3\n"
     ]
    }
   ],
   "source": [
    "participate = df[(df['emp_small']==1) & (df_filtered['ntis_present'] > 0)].shape[0]\n",
    "nonparticipate = df[(df['emp_small']==1) & (df_filtered['ntis_present'] < 1)].shape[0]\n",
    "print(round((nonparticipate/present_non)*100,1), round((participate/present_part)*100,1))"
   ]
  },
  {
   "cell_type": "code",
   "execution_count": 569,
   "metadata": {},
   "outputs": [
    {
     "name": "stdout",
     "output_type": "stream",
     "text": [
      "22.7 60.7\n"
     ]
    }
   ],
   "source": [
    "participate = df[(df['emp_big']==1) & (df_filtered['ntis_present'] > 0)].shape[0]\n",
    "nonparticipate = df[(df['emp_big']==1) & (df_filtered['ntis_present'] < 1)].shape[0]\n",
    "print(round((nonparticipate/present_non)*100,1), round((participate/present_part)*100,1))"
   ]
  },
  {
   "cell_type": "markdown",
   "metadata": {},
   "source": [
    "# 매출액"
   ]
  },
  {
   "cell_type": "code",
   "execution_count": 549,
   "metadata": {},
   "outputs": [],
   "source": [
    "df = pd.read_csv(r'C:\\Users\\Yunseok Choi\\Google 드라이브\\기술경영대학원\\STEPI\\Government R&D\\kis-ntis.csv')\n",
    "df.drop(3999, axis = 0, inplace = True)\n",
    "df.fillna(-1, inplace = True)"
   ]
  },
  {
   "cell_type": "code",
   "execution_count": 570,
   "metadata": {
    "collapsed": true
   },
   "outputs": [
    {
     "data": {
      "text/plain": [
       "{106498,\n",
       " 8196,\n",
       " 8200,\n",
       " 114700,\n",
       " 24590,\n",
       " 24591,\n",
       " 8210,\n",
       " 2973715,\n",
       " 20,\n",
       " 32800,\n",
       " 172071,\n",
       " 8231,\n",
       " 122929,\n",
       " 16440,\n",
       " 8250,\n",
       " 163900,\n",
       " 8253,\n",
       " 32830,\n",
       " 98365,\n",
       " 65600,\n",
       " 8260,\n",
       " 32853,\n",
       " 8280,\n",
       " 24664,\n",
       " 95,\n",
       " 100,\n",
       " 8300,\n",
       " 98414,\n",
       " 385137,\n",
       " 155762,\n",
       " 57460,\n",
       " 16500,\n",
       " 8310,\n",
       " 41084,\n",
       " 24700,\n",
       " 8319,\n",
       " 32900,\n",
       " 237716,\n",
       " 149,\n",
       " 150,\n",
       " 16540,\n",
       " 8350,\n",
       " 8360,\n",
       " 170,\n",
       " 174,\n",
       " 180,\n",
       " 16566,\n",
       " 8380,\n",
       " 8385,\n",
       " 8390,\n",
       " 200,\n",
       " 16584,\n",
       " 24780,\n",
       " 8400,\n",
       " 57555,\n",
       " 8405,\n",
       " 1695962,\n",
       " 8410,\n",
       " 57580,\n",
       " 16621,\n",
       " 49393,\n",
       " 250,\n",
       " 33024,\n",
       " 205062,\n",
       " 270,\n",
       " 3334422,\n",
       " 16663,\n",
       " 8470,\n",
       " 1450265,\n",
       " 280,\n",
       " 24860,\n",
       " 16670,\n",
       " 500000,\n",
       " 65827,\n",
       " 294,\n",
       " 8490,\n",
       " 300,\n",
       " 8500,\n",
       " 310,\n",
       " 33080,\n",
       " 16699,\n",
       " 188732,\n",
       " 8510,\n",
       " 320,\n",
       " 321,\n",
       " 324,\n",
       " 16710,\n",
       " 500040,\n",
       " 74056,\n",
       " 33100,\n",
       " 246100,\n",
       " 33110,\n",
       " 49500,\n",
       " 349,\n",
       " 350,\n",
       " 16732,\n",
       " 123232,\n",
       " 377184,\n",
       " 8550,\n",
       " 360,\n",
       " 8560,\n",
       " 156023,\n",
       " 8570,\n",
       " 16763,\n",
       " 3154300,\n",
       " 381,\n",
       " 380,\n",
       " 8575,\n",
       " 8580,\n",
       " 390,\n",
       " 24970,\n",
       " 16780,\n",
       " 400,\n",
       " 8600,\n",
       " 164249,\n",
       " 24986,\n",
       " 524700,\n",
       " 16800,\n",
       " 49568,\n",
       " 57760,\n",
       " 278947,\n",
       " 25000,\n",
       " 2728360,\n",
       " 425,\n",
       " 430,\n",
       " 115122,\n",
       " 25015,\n",
       " 440,\n",
       " 41400,\n",
       " 25020,\n",
       " 25026,\n",
       " 25034,\n",
       " 8652,\n",
       " 49613,\n",
       " 460,\n",
       " 66000,\n",
       " 470,\n",
       " 123350,\n",
       " 16857,\n",
       " 33245,\n",
       " 480,\n",
       " 287200,\n",
       " 16867,\n",
       " 16869,\n",
       " 490,\n",
       " 303600,\n",
       " 25073,\n",
       " 500,\n",
       " 25081,\n",
       " 8698,\n",
       " 506,\n",
       " 8700,\n",
       " 509,\n",
       " 510,\n",
       " 98810,\n",
       " 25088,\n",
       " 515,\n",
       " 221701,\n",
       " 520,\n",
       " 8716,\n",
       " 57870,\n",
       " 530,\n",
       " 538,\n",
       " 66075,\n",
       " 8737,\n",
       " 550,\n",
       " 8750,\n",
       " 560,\n",
       " 8752,\n",
       " 16948,\n",
       " 570,\n",
       " 516670,\n",
       " 1000000,\n",
       " 2703936,\n",
       " 41538,\n",
       " 580,\n",
       " 164420,\n",
       " 1237573,\n",
       " 16970,\n",
       " 590,\n",
       " 25170,\n",
       " 418388,\n",
       " 598,\n",
       " 600,\n",
       " 25177,\n",
       " 90720,\n",
       " 609,\n",
       " 25186,\n",
       " 82530,\n",
       " 8800,\n",
       " 17000,\n",
       " 17002,\n",
       " 82540,\n",
       " 230000,\n",
       " 627,\n",
       " 33396,\n",
       " 17015,\n",
       " 25210,\n",
       " 14213755,\n",
       " 638,\n",
       " 640,\n",
       " 648,\n",
       " 221833,\n",
       " 650,\n",
       " 49810,\n",
       " 66195,\n",
       " 660,\n",
       " 8854,\n",
       " 271000,\n",
       " 3343000,\n",
       " 49820,\n",
       " 17053,\n",
       " 8860,\n",
       " 33439,\n",
       " 670,\n",
       " 49823,\n",
       " 669,\n",
       " 8863,\n",
       " 172713,\n",
       " 17066,\n",
       " 8880,\n",
       " 25265,\n",
       " 690,\n",
       " 692,\n",
       " 99000,\n",
       " 700,\n",
       " 17090,\n",
       " 8900,\n",
       " 8905,\n",
       " 17098,\n",
       " 17100,\n",
       " 41678,\n",
       " 41680,\n",
       " 720,\n",
       " 74451,\n",
       " 723,\n",
       " 8920,\n",
       " 729,\n",
       " 730,\n",
       " 33500,\n",
       " 443100,\n",
       " 140000,\n",
       " 740,\n",
       " 8932,\n",
       " 8938,\n",
       " 750,\n",
       " 17139,\n",
       " 17141,\n",
       " 8950,\n",
       " 767,\n",
       " 49920,\n",
       " 697090,\n",
       " 287491,\n",
       " 74500,\n",
       " 770,\n",
       " 780,\n",
       " 82702,\n",
       " 785,\n",
       " 8980,\n",
       " 789,\n",
       " 792,\n",
       " 25369,\n",
       " 164636,\n",
       " 8990,\n",
       " 800,\n",
       " 1434400,\n",
       " 17189,\n",
       " 25382,\n",
       " 9000,\n",
       " 810,\n",
       " 9003,\n",
       " 17199,\n",
       " 17200,\n",
       " 33586,\n",
       " 820,\n",
       " 9015,\n",
       " 25400,\n",
       " 17210,\n",
       " 49982,\n",
       " 830,\n",
       " 832,\n",
       " 197440,\n",
       " 107334,\n",
       " 17227,\n",
       " 843,\n",
       " 9039,\n",
       " 50000,\n",
       " 9040,\n",
       " 850,\n",
       " 82771,\n",
       " 33619,\n",
       " 25429,\n",
       " 853,\n",
       " 857,\n",
       " 1295200,\n",
       " 25440,\n",
       " 9066,\n",
       " 875,\n",
       " 17260,\n",
       " 164729,\n",
       " 890,\n",
       " 3801980,\n",
       " 893,\n",
       " 898,\n",
       " 900,\n",
       " 615300,\n",
       " 41864,\n",
       " 17289,\n",
       " 9100,\n",
       " 908,\n",
       " 123790,\n",
       " 74636,\n",
       " 910,\n",
       " 17300,\n",
       " 917,\n",
       " 922,\n",
       " 25500,\n",
       " 930,\n",
       " 107427,\n",
       " 935,\n",
       " 345000,\n",
       " 939,\n",
       " 943,\n",
       " 353200,\n",
       " 950,\n",
       " 4522935,\n",
       " 17340,\n",
       " 213948,\n",
       " 33724,\n",
       " 9151,\n",
       " 697285,\n",
       " 965,\n",
       " 9160,\n",
       " 91081,\n",
       " 970,\n",
       " 181198,\n",
       " 974,\n",
       " 17360,\n",
       " 980,\n",
       " 394199,\n",
       " 2155482,\n",
       " 9180,\n",
       " 17374,\n",
       " 990,\n",
       " 74720,\n",
       " 25571,\n",
       " 17380,\n",
       " 9190,\n",
       " 91111,\n",
       " 1000,\n",
       " 17386,\n",
       " 33771,\n",
       " 1003,\n",
       " 1006,\n",
       " 9200,\n",
       " 9201,\n",
       " 1009,\n",
       " 66547,\n",
       " 17395,\n",
       " 41973,\n",
       " 1010,\n",
       " 9210,\n",
       " 1020,\n",
       " 25600,\n",
       " 1164300,\n",
       " 41999,\n",
       " 1040,\n",
       " 1885200,\n",
       " 50198,\n",
       " 74776,\n",
       " 1050,\n",
       " 17440,\n",
       " 1060,\n",
       " 1069,\n",
       " 1070,\n",
       " 25650,\n",
       " 9270,\n",
       " 1080,\n",
       " 1926200,\n",
       " 1082,\n",
       " 1090,\n",
       " 9287,\n",
       " 9288,\n",
       " 58440,\n",
       " 1100,\n",
       " 312397,\n",
       " 173139,\n",
       " 1110,\n",
       " 25690,\n",
       " 328800,\n",
       " 1120,\n",
       " 9314,\n",
       " 17510,\n",
       " 2024551,\n",
       " 91240,\n",
       " 9320,\n",
       " 1130,\n",
       " 148588,\n",
       " 9330,\n",
       " 42100,\n",
       " 1140,\n",
       " 50300,\n",
       " 1150,\n",
       " 2000000,\n",
       " 9349,\n",
       " 165000,\n",
       " 1160,\n",
       " 1165,\n",
       " 1170,\n",
       " 9366,\n",
       " 1180,\n",
       " 58527,\n",
       " 1184,\n",
       " 58530,\n",
       " 9380,\n",
       " 1189,\n",
       " 42150,\n",
       " 1190,\n",
       " 181419,\n",
       " 1200,\n",
       " 107700,\n",
       " 25780,\n",
       " 246968,\n",
       " 42170,\n",
       " 263356,\n",
       " 1220,\n",
       " 50373,\n",
       " 9414,\n",
       " 17612,\n",
       " 1230,\n",
       " 34000,\n",
       " 1235,\n",
       " 1236,\n",
       " 1240,\n",
       " 34011,\n",
       " 58590,\n",
       " 9440,\n",
       " 1249,\n",
       " 1250,\n",
       " 25834,\n",
       " 140523,\n",
       " 1260,\n",
       " 107756,\n",
       " 34030,\n",
       " 1263,\n",
       " 1270,\n",
       " 9463,\n",
       " 58620,\n",
       " 1277,\n",
       " 66814,\n",
       " 83196,\n",
       " 58625,\n",
       " 1281,\n",
       " 1284,\n",
       " 1008900,\n",
       " 25862,\n",
       " 9480,\n",
       " 1290,\n",
       " 9485,\n",
       " 25870,\n",
       " 75024,\n",
       " 17681,\n",
       " 9490,\n",
       " 50450,\n",
       " 1300,\n",
       " 206100,\n",
       " 17687,\n",
       " 107800,\n",
       " 1305,\n",
       " 9500,\n",
       " 17696,\n",
       " 25890,\n",
       " 1320,\n",
       " 17710,\n",
       " 140590,\n",
       " 17712,\n",
       " 9521,\n",
       " 1340,\n",
       " 1342,\n",
       " 17727,\n",
       " 1345,\n",
       " 1350,\n",
       " 157000,\n",
       " 386377,\n",
       " 58700,\n",
       " 17741,\n",
       " 1360,\n",
       " 9560,\n",
       " 1000792,\n",
       " 2737498,\n",
       " 1370,\n",
       " 9570,\n",
       " 25959,\n",
       " 214381,\n",
       " 1390,\n",
       " 34160,\n",
       " 1395,\n",
       " 3171700,\n",
       " 9590,\n",
       " 1400,\n",
       " 9598,\n",
       " 9600,\n",
       " 664960,\n",
       " 34183,\n",
       " 17800,\n",
       " 1423,\n",
       " 1426,\n",
       " 239000,\n",
       " 271769,\n",
       " 34200,\n",
       " 17817,\n",
       " 1779100,\n",
       " 3540377,\n",
       " 9630,\n",
       " 1436,\n",
       " 1440,\n",
       " 1435,\n",
       " 1439,\n",
       " 1449,\n",
       " 91562,\n",
       " 34219,\n",
       " 58800,\n",
       " 1460,\n",
       " 42430,\n",
       " 1471,\n",
       " 1470,\n",
       " 26049,\n",
       " 1476,\n",
       " 9670,\n",
       " 1480,\n",
       " 1486,\n",
       " 198096,\n",
       " 9680,\n",
       " 1490,\n",
       " 34257,\n",
       " 189910,\n",
       " 206296,\n",
       " 1500,\n",
       " 9692,\n",
       " 1505,\n",
       " 173540,\n",
       " 1509,\n",
       " 288230,\n",
       " 525799,\n",
       " 165351,\n",
       " 1443300,\n",
       " 17900,\n",
       " 1520,\n",
       " 148980,\n",
       " 1530,\n",
       " 11200000,\n",
       " 99843,\n",
       " 1540,\n",
       " 902660,\n",
       " 67078,\n",
       " 17926,\n",
       " 17929,\n",
       " 17930,\n",
       " 132619,\n",
       " 1279500,\n",
       " 9738,\n",
       " 1550,\n",
       " 1552,\n",
       " 58900,\n",
       " 1557,\n",
       " 9750,\n",
       " 17940,\n",
       " 1560,\n",
       " 321047,\n",
       " 75290,\n",
       " 1566,\n",
       " 222752,\n",
       " 1570,\n",
       " 9762,\n",
       " 1573,\n",
       " 34347,\n",
       " 1580,\n",
       " 42541,\n",
       " 9772,\n",
       " 83500,\n",
       " 26160,\n",
       " 190000,\n",
       " 17970,\n",
       " 1590,\n",
       " 9790,\n",
       " 99903,\n",
       " 1600,\n",
       " 17982,\n",
       " 1602,\n",
       " 83526,\n",
       " 9800,\n",
       " 214600,\n",
       " 17993,\n",
       " 9805,\n",
       " 18000,\n",
       " 1620,\n",
       " 26200,\n",
       " 91738,\n",
       " 1459802,\n",
       " 9820,\n",
       " 1630,\n",
       " 34400,\n",
       " 75360,\n",
       " 9826,\n",
       " 26210,\n",
       " 9830,\n",
       " 1640,\n",
       " 1649,\n",
       " 1650,\n",
       " 18034,\n",
       " 67190,\n",
       " 26231,\n",
       " 59000,\n",
       " 9848,\n",
       " 67200,\n",
       " 1675,\n",
       " 83598,\n",
       " 1680,\n",
       " 1684,\n",
       " 1685,\n",
       " 9880,\n",
       " 1690,\n",
       " 1692,\n",
       " 91807,\n",
       " 100000,\n",
       " 1700,\n",
       " 18087,\n",
       " 9900,\n",
       " 9910,\n",
       " 1720,\n",
       " 1722,\n",
       " 18110,\n",
       " 9919,\n",
       " 9930,\n",
       " 1740,\n",
       " 9933,\n",
       " 444110,\n",
       " 9935,\n",
       " 26323,\n",
       " 9940,\n",
       " 1750,\n",
       " 26327,\n",
       " 42710,\n",
       " 9949,\n",
       " 706270,\n",
       " 1762,\n",
       " 632550,\n",
       " 42740,\n",
       " 1780,\n",
       " 42743,\n",
       " 1783,\n",
       " 1312508,\n",
       " 91900,\n",
       " 59133,\n",
       " 780030,\n",
       " 1795,\n",
       " 1800,\n",
       " 206600,\n",
       " 9994,\n",
       " 9996,\n",
       " 83726,\n",
       " 10000,\n",
       " 337681,\n",
       " 26389,\n",
       " 1814,\n",
       " 223000,\n",
       " 18200,\n",
       " 10010,\n",
       " 26395,\n",
       " 247579,\n",
       " 10013,\n",
       " 10020,\n",
       " 124710,\n",
       " 10024,\n",
       " 1834,\n",
       " 10027,\n",
       " 10030,\n",
       " 1840,\n",
       " 50993,\n",
       " 26423,\n",
       " 1850,\n",
       " 1851,\n",
       " 34623,\n",
       " 1856,\n",
       " 1857,\n",
       " 1860,\n",
       " 1870,\n",
       " 59220,\n",
       " 1880,\n",
       " 10074,\n",
       " 18271,\n",
       " 18280,\n",
       " 1900,\n",
       " 67438,\n",
       " 141168,\n",
       " 26480,\n",
       " 10100,\n",
       " 18300,\n",
       " 1920,\n",
       " 10118,\n",
       " 34700,\n",
       " 42906,\n",
       " 51100,\n",
       " 214940,\n",
       " 1950,\n",
       " 26530,\n",
       " 18339,\n",
       " 1956,\n",
       " 1959,\n",
       " 108456,\n",
       " 526250,\n",
       " 1963,\n",
       " 141240,\n",
       " 83901,\n",
       " 1427390,\n",
       " 600000,\n",
       " 92100,\n",
       " 1989,\n",
       " 165830,\n",
       " 34759,\n",
       " 157640,\n",
       " 1990,\n",
       " 116680,\n",
       " 305100,\n",
       " 2000,\n",
       " 2001,\n",
       " 92120,\n",
       " 10200,\n",
       " 2010,\n",
       " 10210,\n",
       " 2020,\n",
       " 10213,\n",
       " 26600,\n",
       " 133100,\n",
       " 59373,\n",
       " 2030,\n",
       " 116720,\n",
       " 34800,\n",
       " 2034,\n",
       " 2039,\n",
       " 2040,\n",
       " 42999,\n",
       " 272376,\n",
       " 10240,\n",
       " 67585,\n",
       " 2050,\n",
       " 2052,\n",
       " 34821,\n",
       " 124938,\n",
       " 18443,\n",
       " 403468,\n",
       " 2060,\n",
       " 34834,\n",
       " 2067,\n",
       " 2070,\n",
       " 10264,\n",
       " 2072,\n",
       " 84000,\n",
       " 2085,\n",
       " 10279,\n",
       " 10282,\n",
       " 2090,\n",
       " 2100,\n",
       " 313400,\n",
       " 10300,\n",
       " 12200000,\n",
       " 51265,\n",
       " 165960,\n",
       " 2120,\n",
       " 92244,\n",
       " 67670,\n",
       " 59479,\n",
       " 2136,\n",
       " 2137,\n",
       " 2140,\n",
       " 1378400,\n",
       " 15100000,\n",
       " 2146,\n",
       " 2150,\n",
       " 2160,\n",
       " 75890,\n",
       " 2166,\n",
       " 174201,\n",
       " 26747,\n",
       " 92291,\n",
       " 2180,\n",
       " 2189,\n",
       " 2191,\n",
       " 2198,\n",
       " 2200,\n",
       " 133277,\n",
       " 305310,\n",
       " 18589,\n",
       " 420000,\n",
       " 10400,\n",
       " 51362,\n",
       " 67748,\n",
       " 18600,\n",
       " 59572,\n",
       " 26804,\n",
       " 51382,\n",
       " 2231,\n",
       " 35000,\n",
       " 125114,\n",
       " 26811,\n",
       " 18623,\n",
       " 2705600,\n",
       " 43200,\n",
       " 26818,\n",
       " 23800000,\n",
       " 26817,\n",
       " 2240,\n",
       " 2244,\n",
       " 2250,\n",
       " 567500,\n",
       " 84180,\n",
       " 18648,\n",
       " 174300,\n",
       " 10460,\n",
       " 2270,\n",
       " 26848,\n",
       " 59621,\n",
       " 2280,\n",
       " 2282,\n",
       " 76010,\n",
       " 2289,\n",
       " 2290,\n",
       " 2292,\n",
       " 10490,\n",
       " 2300,\n",
       " 26880,\n",
       " 10500,\n",
       " 2310,\n",
       " 35081,\n",
       " 272650,\n",
       " 2320,\n",
       " 436500,\n",
       " 108821,\n",
       " 35100,\n",
       " 100640,\n",
       " 264480,\n",
       " 18730,\n",
       " 2350,\n",
       " 3230000,\n",
       " 2353,\n",
       " 2356,\n",
       " 92470,\n",
       " 18743,\n",
       " 2358,\n",
       " 67901,\n",
       " 174400,\n",
       " 10565,\n",
       " 26950,\n",
       " 10568,\n",
       " 10573,\n",
       " 35155,\n",
       " 51540,\n",
       " 2390,\n",
       " 305500,\n",
       " 2397,\n",
       " 2400,\n",
       " 43360,\n",
       " 26982,\n",
       " 117100,\n",
       " 18797,\n",
       " 26990,\n",
       " 26991,\n",
       " 18800,\n",
       " 10610,\n",
       " 2420,\n",
       " 10614,\n",
       " 27000,\n",
       " 2430,\n",
       " 118000000,\n",
       " 240000,\n",
       " 27010,\n",
       " 10626,\n",
       " 76160,\n",
       " 2437,\n",
       " 43400,\n",
       " 18828,\n",
       " 2446,\n",
       " 2447,\n",
       " 2450,\n",
       " 18835,\n",
       " 3844500,\n",
       " 182683,\n",
       " 2463,\n",
       " 2470,\n",
       " 27047,\n",
       " 18860,\n",
       " 18864,\n",
       " 2490,\n",
       " 1206716,\n",
       " 2496,\n",
       " 2500,\n",
       " 10692,\n",
       " 2503,\n",
       " 10698,\n",
       " 10700,\n",
       " 2509,\n",
       " 2510,\n",
       " 133594,\n",
       " 27100,\n",
       " 2527,\n",
       " 2530,\n",
       " 903651,\n",
       " 18915,\n",
       " 2535,\n",
       " 10730,\n",
       " 150000,\n",
       " 2545,\n",
       " 2546,\n",
       " 2550,\n",
       " 18938,\n",
       " 18941,\n",
       " 999999999,\n",
       " 2560,\n",
       " 10753,\n",
       " 10760,\n",
       " 2570,\n",
       " 141838,\n",
       " 18964,\n",
       " 2580,\n",
       " 27158,\n",
       " 43543,\n",
       " 191000,\n",
       " 59930,\n",
       " 10780,\n",
       " 2590,\n",
       " 2591,\n",
       " 4500000,\n",
       " 2592,\n",
       " 43552,\n",
       " 141860,\n",
       " 10790,\n",
       " 2600,\n",
       " 2603,\n",
       " 117300,\n",
       " 404023,\n",
       " 19000,\n",
       " 1043000,\n",
       " 199226,\n",
       " 92734,\n",
       " 19006,\n",
       " 35398,\n",
       " 10827,\n",
       " 338510,\n",
       " 2640,\n",
       " 117330,\n",
       " 19030,\n",
       " 1075800,\n",
       " 51800,\n",
       " 363100,\n",
       " 68190,\n",
       " 60000,\n",
       " 2662,\n",
       " 10855,\n",
       " 10857,\n",
       " 35437,\n",
       " 2670,\n",
       " 43633,\n",
       " 84600,\n",
       " 2680,\n",
       " 27261,\n",
       " 2689,\n",
       " 84611,\n",
       " 2700,\n",
       " 43663,\n",
       " 27281,\n",
       " 10900,\n",
       " 2710,\n",
       " 2720,\n",
       " 10912,\n",
       " 19113,\n",
       " 2730,\n",
       " 2732,\n",
       " 2740,\n",
       " 19125,\n",
       " 2742,\n",
       " 150200,\n",
       " 223931,\n",
       " 2750,\n",
       " 363200,\n",
       " 19141,\n",
       " 2760,\n",
       " 27340,\n",
       " 2770,\n",
       " 150228,\n",
       " 19157,\n",
       " 2785,\n",
       " 10980,\n",
       " 19173,\n",
       " 379622,\n",
       " 10983,\n",
       " 2790,\n",
       " 35562,\n",
       " 2800,\n",
       " 822000,\n",
       " 84720,\n",
       " ...}"
      ]
     },
     "execution_count": 570,
     "metadata": {},
     "output_type": "execute_result"
    }
   ],
   "source": [
    "set(df['Q37_3_1'].values)"
   ]
  },
  {
   "cell_type": "code",
   "execution_count": 571,
   "metadata": {},
   "outputs": [
    {
     "data": {
      "text/html": [
       "<div>\n",
       "<style scoped>\n",
       "    .dataframe tbody tr th:only-of-type {\n",
       "        vertical-align: middle;\n",
       "    }\n",
       "\n",
       "    .dataframe tbody tr th {\n",
       "        vertical-align: top;\n",
       "    }\n",
       "\n",
       "    .dataframe thead th {\n",
       "        text-align: right;\n",
       "    }\n",
       "</style>\n",
       "<table border=\"1\" class=\"dataframe\">\n",
       "  <thead>\n",
       "    <tr style=\"text-align: right;\">\n",
       "      <th></th>\n",
       "      <th>ID</th>\n",
       "      <th>company_ID</th>\n",
       "      <th>company_name</th>\n",
       "      <th>sector</th>\n",
       "      <th>subsector</th>\n",
       "      <th>size_2021</th>\n",
       "      <th>size_2020</th>\n",
       "      <th>sales</th>\n",
       "      <th>n_years</th>\n",
       "      <th>ntis_past</th>\n",
       "      <th>...</th>\n",
       "      <th>Q40_5</th>\n",
       "      <th>Q40_6</th>\n",
       "      <th>Q40_6_TXT</th>\n",
       "      <th>Q41</th>\n",
       "      <th>Q41_7_TXT</th>\n",
       "      <th>Q42</th>\n",
       "      <th>Q43</th>\n",
       "      <th>WT1</th>\n",
       "      <th>emp_small</th>\n",
       "      <th>emp_big</th>\n",
       "    </tr>\n",
       "  </thead>\n",
       "  <tbody>\n",
       "  </tbody>\n",
       "</table>\n",
       "<p>0 rows × 363 columns</p>\n",
       "</div>"
      ],
      "text/plain": [
       "Empty DataFrame\n",
       "Columns: [ID, company_ID, company_name, sector, subsector, size_2021, size_2020, sales, n_years, ntis_past, ntis_present, SQ2_1, SQ2_2, SQ2_3, SQ3_1, SQ3_2, SQ3_3, SQ3_4, Q1_01_1, Q1_01_2, Q1_01_3, Q1_01_4, Q1_01_5, Q1_01_6, Q1_01_7, Q1_01_8, Q1_01_9, Q1_01_10, Q1_02_1, Q1_02_2, Q1_02_3, Q1_02_4, Q1_02_5, Q1_02_6, Q1_02_7, Q1_02_8, Q2_1, Q2_2, Q2_3, Q2_4, Q2_5, Q2_6, Q2_7, Q2_8, Q3_1_1, Q3_1_2, Q3_1_3, Q3_2_1, Q3_2_2, Q3_2_3, Q3_3_1, Q3_3_2, Q3_3_3, Q3_4_1, Q3_4_2, Q3_4_3, Q3_5_1, Q3_5_2, Q3_5_3, Q4_1_1, Q4_1_2, Q4_1_3, Q4_1_4, Q4_2_1, Q4_2_2, Q4_2_3, Q4_2_4, Q5_1, Q5_2, Q6_1, Q6_2, Q7_1, Q7_2, Q7_3, Q8_1, Q8_2, Q8_3, Q8_4, Q9_1, Q9_2, Q9_3, Q9_4, Q9_5, Q9_6, Q10_1, Q10_2, Q10_3, Q10_4, Q11_1, Q11_2, Q11_3, Q11_4, Q11_04_01, Q11_5, Q11_6, Q12_01_1, Q12_02_1, Q12_02_2, Q12_02_3, Q12_02_4, ...]\n",
       "Index: []\n",
       "\n",
       "[0 rows x 363 columns]"
      ]
     },
     "execution_count": 571,
     "metadata": {},
     "output_type": "execute_result"
    }
   ],
   "source": [
    "df[df['Q37_3_1'] == -1]"
   ]
  },
  {
   "cell_type": "code",
   "execution_count": 585,
   "metadata": {},
   "outputs": [],
   "source": [
    "revenue = list(set(df['Q37_3_1'].values))\n",
    "revenue.sort()\n",
    "median = np.median(revenue)"
   ]
  },
  {
   "cell_type": "code",
   "execution_count": 572,
   "metadata": {},
   "outputs": [
    {
     "data": {
      "text/plain": [
       "{-1.0, 0.0, 1.0}"
      ]
     },
     "execution_count": 572,
     "metadata": {},
     "output_type": "execute_result"
    }
   ],
   "source": [
    "set(df['ntis_past'])"
   ]
  },
  {
   "cell_type": "code",
   "execution_count": 573,
   "metadata": {},
   "outputs": [
    {
     "data": {
      "text/plain": [
       "{-1.0, 0.0, 1.0, 2.0, 3.0, 4.0, 5.0, 6.0, 7.0, 9.0}"
      ]
     },
     "execution_count": 573,
     "metadata": {},
     "output_type": "execute_result"
    }
   ],
   "source": [
    "set(df['ntis_present'])"
   ]
  },
  {
   "cell_type": "code",
   "execution_count": 586,
   "metadata": {},
   "outputs": [
    {
     "name": "stderr",
     "output_type": "stream",
     "text": [
      "C:\\Users\\YUNSEO~1\\AppData\\Local\\Temp/ipykernel_4884/2645631914.py:7: SettingWithCopyWarning: \n",
      "A value is trying to be set on a copy of a slice from a DataFrame\n",
      "\n",
      "See the caveats in the documentation: https://pandas.pydata.org/pandas-docs/stable/user_guide/indexing.html#returning-a-view-versus-a-copy\n",
      "  df['rev_small'][i] = 1\n",
      "C:\\Users\\YUNSEO~1\\AppData\\Local\\Temp/ipykernel_4884/2645631914.py:13: SettingWithCopyWarning: \n",
      "A value is trying to be set on a copy of a slice from a DataFrame\n",
      "\n",
      "See the caveats in the documentation: https://pandas.pydata.org/pandas-docs/stable/user_guide/indexing.html#returning-a-view-versus-a-copy\n",
      "  df['rev_big'][i] = 0\n",
      "C:\\Users\\YUNSEO~1\\AppData\\Local\\Temp/ipykernel_4884/2645631914.py:9: SettingWithCopyWarning: \n",
      "A value is trying to be set on a copy of a slice from a DataFrame\n",
      "\n",
      "See the caveats in the documentation: https://pandas.pydata.org/pandas-docs/stable/user_guide/indexing.html#returning-a-view-versus-a-copy\n",
      "  df['rev_small'][i] = 0\n",
      "C:\\Users\\YUNSEO~1\\AppData\\Local\\Temp/ipykernel_4884/2645631914.py:11: SettingWithCopyWarning: \n",
      "A value is trying to be set on a copy of a slice from a DataFrame\n",
      "\n",
      "See the caveats in the documentation: https://pandas.pydata.org/pandas-docs/stable/user_guide/indexing.html#returning-a-view-versus-a-copy\n",
      "  df['rev_big'][i] = 1\n"
     ]
    }
   ],
   "source": [
    "emp_small = df[(df[\"Q37_3_1\"]<=median)].index\n",
    "emp_big = df[(df[\"Q37_3_1\"]>median)].index\n",
    "df['rev_small'] = ''\n",
    "df['rev_big'] = ''\n",
    "for i in range(0,3999,1):\n",
    "    if i in emp_small:\n",
    "        df['rev_small'][i] = 1\n",
    "    else:\n",
    "        df['rev_small'][i] = 0\n",
    "    if i in emp_big:\n",
    "        df['rev_big'][i] = 1\n",
    "    else:\n",
    "        df['rev_big'][i] = 0"
   ]
  },
  {
   "cell_type": "markdown",
   "metadata": {},
   "source": [
    "#### 기초 통계량: 법정유형"
   ]
  },
  {
   "cell_type": "code",
   "execution_count": 589,
   "metadata": {},
   "outputs": [
    {
     "name": "stdout",
     "output_type": "stream",
     "text": [
      "0.641410352588147 0.35858964741185295\n"
     ]
    }
   ],
   "source": [
    "#평균값\n",
    "print(np.mean(df['rev_small'].values), np.mean(df['rev_big'].values))"
   ]
  },
  {
   "cell_type": "code",
   "execution_count": 590,
   "metadata": {},
   "outputs": [
    {
     "name": "stdout",
     "output_type": "stream",
     "text": [
      "0.47958639699317845 0.47958639699317845\n"
     ]
    }
   ],
   "source": [
    "print(np.std(df['rev_small'].values), np.std(df['rev_big'].values))"
   ]
  },
  {
   "cell_type": "markdown",
   "metadata": {},
   "source": [
    "#### 종합 혁신 활동 비율 분석 (과거시점)"
   ]
  },
  {
   "cell_type": "code",
   "execution_count": 591,
   "metadata": {},
   "outputs": [
    {
     "data": {
      "text/plain": [
       "{-1.0, 0.0, 1.0}"
      ]
     },
     "execution_count": 591,
     "metadata": {},
     "output_type": "execute_result"
    }
   ],
   "source": [
    "set(df['ntis_past'].values)"
   ]
  },
  {
   "cell_type": "code",
   "execution_count": 592,
   "metadata": {},
   "outputs": [
    {
     "name": "stdout",
     "output_type": "stream",
     "text": [
      "3776 223\n"
     ]
    }
   ],
   "source": [
    "past_non = df[df['ntis_past'] < 1].shape[0]\n",
    "past_part = df[df['ntis_past'] > 0].shape[0]\n",
    "print(past_non, past_part)"
   ]
  },
  {
   "cell_type": "code",
   "execution_count": 593,
   "metadata": {},
   "outputs": [
    {
     "name": "stdout",
     "output_type": "stream",
     "text": [
      "12.1 30.9\n"
     ]
    }
   ],
   "source": [
    "participate = df[(df['rev_small']==1) & (df_filtered['ntis_past'] > 0)].shape[0]\n",
    "nonparticipate = df[(df['rev_small']==1) & (df_filtered['ntis_past'] < 1)].shape[0]\n",
    "print(round((nonparticipate/past_non)*100,1), round((participate/past_part)*100,1))"
   ]
  },
  {
   "cell_type": "code",
   "execution_count": 594,
   "metadata": {},
   "outputs": [
    {
     "name": "stdout",
     "output_type": "stream",
     "text": [
      "12.2 35.0\n"
     ]
    }
   ],
   "source": [
    "participate = df[(df['rev_big']==1) & (df_filtered['ntis_past'] > 0)].shape[0]\n",
    "nonparticipate = df[(df['rev_big']==1) & (df_filtered['ntis_past'] < 1)].shape[0]\n",
    "print(round((nonparticipate/past_non)*100,1), round((participate/past_part)*100,1))"
   ]
  },
  {
   "cell_type": "markdown",
   "metadata": {},
   "source": [
    "#### 종합 혁신 활동 비율 분석 (현재시점)"
   ]
  },
  {
   "cell_type": "code",
   "execution_count": 595,
   "metadata": {
    "scrolled": true
   },
   "outputs": [
    {
     "data": {
      "text/plain": [
       "{-1.0, 0.0, 1.0, 2.0, 3.0, 4.0, 5.0, 6.0, 7.0, 9.0}"
      ]
     },
     "execution_count": 595,
     "metadata": {},
     "output_type": "execute_result"
    }
   ],
   "source": [
    "set(df['ntis_present'].values)"
   ]
  },
  {
   "cell_type": "code",
   "execution_count": 596,
   "metadata": {},
   "outputs": [
    {
     "name": "stdout",
     "output_type": "stream",
     "text": [
      "3699 300\n"
     ]
    }
   ],
   "source": [
    "present_non = df[df['ntis_present'] < 1].shape[0]\n",
    "present_part = df[df['ntis_present'] > 0].shape[0]\n",
    "print(present_non, present_part)"
   ]
  },
  {
   "cell_type": "code",
   "execution_count": 597,
   "metadata": {},
   "outputs": [
    {
     "name": "stdout",
     "output_type": "stream",
     "text": [
      "11.6 31.7\n"
     ]
    }
   ],
   "source": [
    "participate = df[(df['rev_small']==1) & (df_filtered['ntis_present'] > 0)].shape[0]\n",
    "nonparticipate = df[(df['rev_small']==1) & (df_filtered['ntis_present'] < 1)].shape[0]\n",
    "print(round((nonparticipate/present_non)*100,1), round((participate/present_part)*100,1))"
   ]
  },
  {
   "cell_type": "code",
   "execution_count": 598,
   "metadata": {},
   "outputs": [
    {
     "name": "stdout",
     "output_type": "stream",
     "text": [
      "12.1 31.3\n"
     ]
    }
   ],
   "source": [
    "participate = df[(df['rev_big']==1) & (df_filtered['ntis_present'] > 0)].shape[0]\n",
    "nonparticipate = df[(df['rev_big']==1) & (df_filtered['ntis_present'] < 1)].shape[0]\n",
    "print(round((nonparticipate/present_non)*100,1), round((participate/present_part)*100,1))"
   ]
  },
  {
   "cell_type": "code",
   "execution_count": null,
   "metadata": {},
   "outputs": [],
   "source": []
  }
 ],
 "metadata": {
  "kernelspec": {
   "display_name": "Python 3 (ipykernel)",
   "language": "python",
   "name": "python3"
  },
  "language_info": {
   "codemirror_mode": {
    "name": "ipython",
    "version": 3
   },
   "file_extension": ".py",
   "mimetype": "text/x-python",
   "name": "python",
   "nbconvert_exporter": "python",
   "pygments_lexer": "ipython3",
   "version": "3.8.5"
  }
 },
 "nbformat": 4,
 "nbformat_minor": 4
}
